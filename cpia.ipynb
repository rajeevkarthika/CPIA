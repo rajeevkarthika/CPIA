{
 "cells": [
  {
   "cell_type": "markdown",
   "metadata": {},
   "source": [
    "# CPIA Insights: Policy and Institutional Analysis of African Countries (2005–2023)\n",
    "\n",
    "This analysis assesses the policy and institutional performance of African countries based on the **World Bank's Country Policy and Institutional Assessment (CPIA)** ratings. \n",
    "\n",
    "### Country Policy and Institutional Assessment (CPIA)\n",
    "The information below is taken from [CPIA Criteria 2023](https://thedocs.worldbank.org/en/doc/6f23ce104041b7d1e66525f6a9e91e66-0290012024/original/CPIA-2023-Criteria.pdf) by Operations Policy and Country Services World Bank group. \n",
    "\n",
    "The CPIA measures the extent to which a country’s policy and institutional framework supports sustainable growth and poverty reduction, and consequently, the effective use of development assistance. The CPIA rates countries against a set of 16 criteria grouped in four clusters.\n",
    "\n",
    "A. Economic Management\n",
    "1. Monetary and Exchange Rate Policies\n",
    "2. Fiscal Policy\n",
    "3. Debt Policy and Management\n",
    "\n",
    "B. Structural Policies\n",
    "\n",
    "4. Trade\n",
    "5. Financial Sector\n",
    "6. Business Regulatory Environment\n",
    "\n",
    "C. Policies for Social Inclusion/Equity\n",
    "\n",
    "7. Gender Equality\n",
    "8. Equity of Public Resource Use\n",
    "9. Building Human Resources\n",
    "10. Social Protection and Labor\n",
    "11. Policies and Institutions for Environmental Sustainability\n",
    "\n",
    "D. Public Sector Management and Institutions\n",
    "\n",
    "12. Property Rights and Rule-based Governance\n",
    "13. Quality of Budgetary and Financial Management\n",
    "14. Efficiency of Revenue Mobilization\n",
    "15. Quality of Public Administration\n",
    "16. Transparency, Accountability, and Corruption in the Public Sector \n",
    "\n",
    "**Rating scale and overall score**: For each criterion, countries are rated on a scale of **1 (low) to 6 (high)**. A 1 rating corresponds to a very weak performance, and a 6 rating to a very strong performance. Each of the four clusters has a 25 percent weight in the overall rating. Within each cluster, all criteria receive equal weight, although components within a criterion may be weighted differently. The overall score is obtained by calculating the average score for each cluster,\n",
    "and then by averaging the scores of the four clusters. The CPIA can then be interpreted as representing an overall country score that considers each of the four clusters to be equally relevant even if some of the clusters contain more criteria than others.\n",
    "\n",
    "### Data Collection and Preparation\n",
    "The data is retrieved from the [UNdata](http://data.un.org/Explorer.aspx?d=UNODC) database, which sources its information from the [World Development Indicators](https://databank.worldbank.org/source/world-development-indicators) (WDI) published by the World Bank. \n",
    "\n",
    "The following datasets have been collected and merged to create a single dataset containing average CPIA scores for the four above mentioned clusters over the years 2005 to 2023.\n",
    "\n",
    "1. [Economic Management Cluster Average](https://data.un.org/Data.aspx?d=WDI&f=Indicator_Code%3aIQ.CPA.ECON.XQ)\n",
    "2. [Structural Policies Cluster Average](https://data.un.org/Data.aspx?d=WDI&f=Indicator_Code%3aIQ.CPA.STRC.XQ)\n",
    "3. [Policies for Social Inclusion/Equity Cluster Average](https://data.un.org/Data.aspx?d=WDI&f=Indicator_Code%3aIQ.CPA.SOCI.XQ)\n",
    "4. [Public Sector Management and Institutions Cluster Average](https://data.un.org/Data.aspx?d=WDI&f=Indicator_Code%3aIQ.CPA.PUBS.XQ)\n",
    "\n",
    "The merged dataset is further filtered to include only African countries, using an additional dataset ([country_details.csv](CPIA/Datasets/country_details.csv)) that contains information on country names, country codes, regions, and subregions.\n",
    "\n",
    "The final dataset is saved as [cpia_africa.csv](CPIA/Datasets/cpia_africa.csv) in the directory CPIA/Datasets/. \n",
    "\n",
    "**Columns**\n",
    "1. Country or Area: The official name of the country or territory included in the dataset. This dataset contains information about 36 countries in Africa.\n",
    "\n",
    "2. Country Code: A standardised three-letter country code (ISO Alpha-3 format) used for identification and analysis.\n",
    "\n",
    "3. Sub-region: The United Nations-defined geographic sub-region to which the country belongs. In this dataset, sub-regions include Northern Africa and Sub-Saharan Africa. \n",
    "\n",
    "4. Intermediate-region: A more specific United Nations-defined geographic classification within the sub-regions. Categories include Northern Africa, Eastern Africa, Middle Africa, Southern Africa, and Western Africa.\n",
    "\n",
    "5. Year: The calendar year for which the CPIA scores are recorded (ranging from 2005 to 2023).\n",
    "\n",
    "6. Economic Management: CPIA cluster score (ranging from 1 to 6).\n",
    "\n",
    "7. Structural Policies: CPIA cluster score (ranging from 1 to 6).\n",
    "\n",
    "8. Policies for Social Inclusion and Equity: CPIA cluster score (ranging from 1 to 6).\n",
    "\n",
    "9. Public Sector Management and Institutions: CPIA cluster score (ranging from 1 to 6).\n",
    "\n",
    "10. Overall CPIA: The average of the four CPIA cluster scores (ranging from 1 to 6).\n",
    "\n",
    "### Scope\n",
    "\n",
    "This analysis is inspired by the [Country Policy and Institutional Assessment website](https://cpia.afdb.org/?page=results&subpage=profile&indicator_id=A-E_&country_id=BJ&year=2018) of the African Development Bank Group. \n",
    "\n",
    "The analysis aims to explore the following key aspects:\n",
    "\n",
    "1. The relationship across the CPIA cluster scores.\n",
    "\n",
    "2. The regional variations and changes in cluster scores over time.\n",
    "\n",
    "3. The identification of top-performing and low-performing countries based on CPIA scores.\n",
    "\n",
    "4. The examination of trends in CPIA scores from 2005 to 2023.\n",
    "\n",
    "5. The application of K-Means Cluster Analysis to identify countries with similar CPIA cluster ratings."
   ]
  },
  {
   "cell_type": "code",
   "execution_count": 1,
   "metadata": {},
   "outputs": [],
   "source": [
    "# Import all necessary packages\n",
    "import numpy as np\n",
    "import pandas as pd\n",
    "import seaborn as sns\n",
    "import matplotlib.pyplot as plt\n",
    "import sklearn\n",
    "import plotly"
   ]
  },
  {
   "cell_type": "markdown",
   "metadata": {},
   "source": [
    "### Loading the dataframes and preparing the data\n",
    "\n",
    "1. Dataframe with country names, country codes and sub-regions."
   ]
  },
  {
   "cell_type": "code",
   "execution_count": 2,
   "metadata": {},
   "outputs": [
    {
     "name": "stdout",
     "output_type": "stream",
     "text": [
      "name                   False\n",
      "alpha-3                False\n",
      "region                 False\n",
      "sub-region             False\n",
      "intermediate-region     True\n",
      "dtype: bool\n",
      "              name alpha-3  region       sub-region intermediate-region\n",
      "0          Algeria     DZA  Africa  Northern Africa                 NaN\n",
      "16           Egypt     EGY  Africa  Northern Africa                 NaN\n",
      "30           Libya     LBY  Africa  Northern Africa                 NaN\n",
      "37         Morocco     MAR  Africa  Northern Africa                 NaN\n",
      "52           Sudan     SDN  Africa  Northern Africa                 NaN\n",
      "55         Tunisia     TUN  Africa  Northern Africa                 NaN\n",
      "57  Western Sahara     ESH  Africa  Northern Africa                 NaN\n"
     ]
    },
    {
     "data": {
      "text/html": [
       "<div>\n",
       "<style scoped>\n",
       "    .dataframe tbody tr th:only-of-type {\n",
       "        vertical-align: middle;\n",
       "    }\n",
       "\n",
       "    .dataframe tbody tr th {\n",
       "        vertical-align: top;\n",
       "    }\n",
       "\n",
       "    .dataframe thead th {\n",
       "        text-align: right;\n",
       "    }\n",
       "</style>\n",
       "<table border=\"1\" class=\"dataframe\">\n",
       "  <thead>\n",
       "    <tr style=\"text-align: right;\">\n",
       "      <th></th>\n",
       "      <th>Country or Area</th>\n",
       "      <th>Country Code</th>\n",
       "      <th>Sub-region</th>\n",
       "      <th>Intermediate-region</th>\n",
       "    </tr>\n",
       "  </thead>\n",
       "  <tbody>\n",
       "    <tr>\n",
       "      <th>0</th>\n",
       "      <td>Algeria</td>\n",
       "      <td>DZA</td>\n",
       "      <td>Northern Africa</td>\n",
       "      <td>Northern Africa</td>\n",
       "    </tr>\n",
       "    <tr>\n",
       "      <th>1</th>\n",
       "      <td>Angola</td>\n",
       "      <td>AGO</td>\n",
       "      <td>Sub-Saharan Africa</td>\n",
       "      <td>Middle Africa</td>\n",
       "    </tr>\n",
       "    <tr>\n",
       "      <th>2</th>\n",
       "      <td>Benin</td>\n",
       "      <td>BEN</td>\n",
       "      <td>Sub-Saharan Africa</td>\n",
       "      <td>Western Africa</td>\n",
       "    </tr>\n",
       "    <tr>\n",
       "      <th>3</th>\n",
       "      <td>Botswana</td>\n",
       "      <td>BWA</td>\n",
       "      <td>Sub-Saharan Africa</td>\n",
       "      <td>Southern Africa</td>\n",
       "    </tr>\n",
       "    <tr>\n",
       "      <th>4</th>\n",
       "      <td>British Indian Ocean Territory</td>\n",
       "      <td>IOT</td>\n",
       "      <td>Sub-Saharan Africa</td>\n",
       "      <td>Eastern Africa</td>\n",
       "    </tr>\n",
       "  </tbody>\n",
       "</table>\n",
       "</div>"
      ],
      "text/plain": [
       "                  Country or Area Country Code          Sub-region  \\\n",
       "0                         Algeria          DZA     Northern Africa   \n",
       "1                          Angola          AGO  Sub-Saharan Africa   \n",
       "2                           Benin          BEN  Sub-Saharan Africa   \n",
       "3                        Botswana          BWA  Sub-Saharan Africa   \n",
       "4  British Indian Ocean Territory          IOT  Sub-Saharan Africa   \n",
       "\n",
       "  Intermediate-region  \n",
       "0     Northern Africa  \n",
       "1       Middle Africa  \n",
       "2      Western Africa  \n",
       "3     Southern Africa  \n",
       "4      Eastern Africa  "
      ]
     },
     "execution_count": 2,
     "metadata": {},
     "output_type": "execute_result"
    }
   ],
   "source": [
    "# Load the dataframe with details of countries\n",
    "countries = pd.read_csv('Datasets/country_details.csv', \\\n",
    "    usecols=['name', 'alpha-3', 'region', 'sub-region', 'intermediate-region'])\n",
    "\n",
    "# Filter for countries in Africa    \n",
    "countries_africa = countries[countries['region'] == 'Africa'].reset_index(drop=True)\n",
    "\n",
    "# Check which columns have any null values\n",
    "print(countries_africa.isnull().any())\n",
    "\n",
    "# Print rows where 'intermediate-region' is null\n",
    "print(countries_africa[countries_africa['intermediate-region'].isnull()])\n",
    "\n",
    "# Fill missing values in 'intermediate-region' with 'Northern Africa'\n",
    "countries_africa['intermediate-region'] = countries_africa['intermediate-region'].fillna('Northern Africa')\n",
    "\n",
    "# Drop the column region \n",
    "countries_africa = countries_africa.drop('region', axis=1)\n",
    "\n",
    "# Rename columns for clarity\n",
    "countries_africa = countries_africa.rename(columns={\n",
    "    'name': 'Country or Area',\n",
    "    'alpha-3': 'Country Code',\n",
    "    'sub-region': 'Sub-region',\n",
    "    'intermediate-region': 'Intermediate-region'\n",
    "})\n",
    "\n",
    "# Display the dataframe cleaned-up data\n",
    "countries_africa.head()"
   ]
  },
  {
   "cell_type": "markdown",
   "metadata": {},
   "source": [
    "2. Dataframe with average CPIA rating data for the **Economic Management** cluster (Cluster A)."
   ]
  },
  {
   "cell_type": "code",
   "execution_count": 3,
   "metadata": {},
   "outputs": [
    {
     "data": {
      "text/html": [
       "<div>\n",
       "<style scoped>\n",
       "    .dataframe tbody tr th:only-of-type {\n",
       "        vertical-align: middle;\n",
       "    }\n",
       "\n",
       "    .dataframe tbody tr th {\n",
       "        vertical-align: top;\n",
       "    }\n",
       "\n",
       "    .dataframe thead th {\n",
       "        text-align: right;\n",
       "    }\n",
       "</style>\n",
       "<table border=\"1\" class=\"dataframe\">\n",
       "  <thead>\n",
       "    <tr style=\"text-align: right;\">\n",
       "      <th></th>\n",
       "      <th>Country or Area</th>\n",
       "      <th>Year</th>\n",
       "      <th>Economic Management</th>\n",
       "    </tr>\n",
       "  </thead>\n",
       "  <tbody>\n",
       "    <tr>\n",
       "      <th>0</th>\n",
       "      <td>Afghanistan</td>\n",
       "      <td>2023</td>\n",
       "      <td>1.166667</td>\n",
       "    </tr>\n",
       "    <tr>\n",
       "      <th>1</th>\n",
       "      <td>Afghanistan</td>\n",
       "      <td>2022</td>\n",
       "      <td>1.333333</td>\n",
       "    </tr>\n",
       "    <tr>\n",
       "      <th>2</th>\n",
       "      <td>Afghanistan</td>\n",
       "      <td>2020</td>\n",
       "      <td>3.000000</td>\n",
       "    </tr>\n",
       "    <tr>\n",
       "      <th>3</th>\n",
       "      <td>Afghanistan</td>\n",
       "      <td>2019</td>\n",
       "      <td>3.000000</td>\n",
       "    </tr>\n",
       "    <tr>\n",
       "      <th>4</th>\n",
       "      <td>Afghanistan</td>\n",
       "      <td>2018</td>\n",
       "      <td>3.000000</td>\n",
       "    </tr>\n",
       "  </tbody>\n",
       "</table>\n",
       "</div>"
      ],
      "text/plain": [
       "  Country or Area  Year  Economic Management\n",
       "0     Afghanistan  2023             1.166667\n",
       "1     Afghanistan  2022             1.333333\n",
       "2     Afghanistan  2020             3.000000\n",
       "3     Afghanistan  2019             3.000000\n",
       "4     Afghanistan  2018             3.000000"
      ]
     },
     "metadata": {},
     "output_type": "display_data"
    }
   ],
   "source": [
    "# Load the dataframe\n",
    "cluster_A = pd.read_csv('Datasets/Economic_management_cluster_average.csv',\\\n",
    "    usecols = ['Country or Area', 'Year', 'Value'])\n",
    "\n",
    "# Rename columns for clarity\n",
    "cluster_A = cluster_A.rename(columns={'Value':'Economic Management'})\n",
    "\n",
    "# Display the first few rows\n",
    "display(cluster_A.head())"
   ]
  },
  {
   "cell_type": "markdown",
   "metadata": {},
   "source": [
    "3. Dataframe with average CPIA rating data for the **Structural Policies** cluster (Cluster B)."
   ]
  },
  {
   "cell_type": "code",
   "execution_count": 43,
   "metadata": {},
   "outputs": [
    {
     "data": {
      "text/html": [
       "<div>\n",
       "<style scoped>\n",
       "    .dataframe tbody tr th:only-of-type {\n",
       "        vertical-align: middle;\n",
       "    }\n",
       "\n",
       "    .dataframe tbody tr th {\n",
       "        vertical-align: top;\n",
       "    }\n",
       "\n",
       "    .dataframe thead th {\n",
       "        text-align: right;\n",
       "    }\n",
       "</style>\n",
       "<table border=\"1\" class=\"dataframe\">\n",
       "  <thead>\n",
       "    <tr style=\"text-align: right;\">\n",
       "      <th></th>\n",
       "      <th>Country or Area</th>\n",
       "      <th>Year</th>\n",
       "      <th>Structural Policies</th>\n",
       "    </tr>\n",
       "  </thead>\n",
       "  <tbody>\n",
       "    <tr>\n",
       "      <th>0</th>\n",
       "      <td>Afghanistan</td>\n",
       "      <td>2023</td>\n",
       "      <td>2.166667</td>\n",
       "    </tr>\n",
       "    <tr>\n",
       "      <th>1</th>\n",
       "      <td>Afghanistan</td>\n",
       "      <td>2022</td>\n",
       "      <td>2.166667</td>\n",
       "    </tr>\n",
       "    <tr>\n",
       "      <th>2</th>\n",
       "      <td>Afghanistan</td>\n",
       "      <td>2020</td>\n",
       "      <td>2.333333</td>\n",
       "    </tr>\n",
       "    <tr>\n",
       "      <th>3</th>\n",
       "      <td>Afghanistan</td>\n",
       "      <td>2019</td>\n",
       "      <td>2.500000</td>\n",
       "    </tr>\n",
       "    <tr>\n",
       "      <th>4</th>\n",
       "      <td>Afghanistan</td>\n",
       "      <td>2018</td>\n",
       "      <td>2.500000</td>\n",
       "    </tr>\n",
       "  </tbody>\n",
       "</table>\n",
       "</div>"
      ],
      "text/plain": [
       "  Country or Area  Year  Structural Policies\n",
       "0     Afghanistan  2023             2.166667\n",
       "1     Afghanistan  2022             2.166667\n",
       "2     Afghanistan  2020             2.333333\n",
       "3     Afghanistan  2019             2.500000\n",
       "4     Afghanistan  2018             2.500000"
      ]
     },
     "metadata": {},
     "output_type": "display_data"
    }
   ],
   "source": [
    "# Load the dataframe\n",
    "cluster_B = pd.read_csv('Datasets/Structural_policies_cluster_average.csv', \\\n",
    "    usecols = ['Country or Area', 'Year', 'Value'])\n",
    "\n",
    "# Renaming columns for clarity\n",
    "cluster_B = cluster_B.rename(columns={'Value':'Structural Policies'})\n",
    "\n",
    "# Display the first few rows\n",
    "display(cluster_B.head())"
   ]
  },
  {
   "cell_type": "markdown",
   "metadata": {},
   "source": [
    "4. Dataframe with average CPIA rating data for the **Policies for Social Enclusion and Equity** cluster (Cluster C)."
   ]
  },
  {
   "cell_type": "code",
   "execution_count": 5,
   "metadata": {},
   "outputs": [
    {
     "data": {
      "text/html": [
       "<div>\n",
       "<style scoped>\n",
       "    .dataframe tbody tr th:only-of-type {\n",
       "        vertical-align: middle;\n",
       "    }\n",
       "\n",
       "    .dataframe tbody tr th {\n",
       "        vertical-align: top;\n",
       "    }\n",
       "\n",
       "    .dataframe thead th {\n",
       "        text-align: right;\n",
       "    }\n",
       "</style>\n",
       "<table border=\"1\" class=\"dataframe\">\n",
       "  <thead>\n",
       "    <tr style=\"text-align: right;\">\n",
       "      <th></th>\n",
       "      <th>Country or Area</th>\n",
       "      <th>Year</th>\n",
       "      <th>Policies for Social Inclusion and Equity</th>\n",
       "    </tr>\n",
       "  </thead>\n",
       "  <tbody>\n",
       "    <tr>\n",
       "      <th>0</th>\n",
       "      <td>Afghanistan</td>\n",
       "      <td>2023</td>\n",
       "      <td>1.7</td>\n",
       "    </tr>\n",
       "    <tr>\n",
       "      <th>1</th>\n",
       "      <td>Afghanistan</td>\n",
       "      <td>2022</td>\n",
       "      <td>1.7</td>\n",
       "    </tr>\n",
       "    <tr>\n",
       "      <th>2</th>\n",
       "      <td>Afghanistan</td>\n",
       "      <td>2020</td>\n",
       "      <td>2.7</td>\n",
       "    </tr>\n",
       "    <tr>\n",
       "      <th>3</th>\n",
       "      <td>Afghanistan</td>\n",
       "      <td>2019</td>\n",
       "      <td>2.7</td>\n",
       "    </tr>\n",
       "    <tr>\n",
       "      <th>4</th>\n",
       "      <td>Afghanistan</td>\n",
       "      <td>2018</td>\n",
       "      <td>2.6</td>\n",
       "    </tr>\n",
       "  </tbody>\n",
       "</table>\n",
       "</div>"
      ],
      "text/plain": [
       "  Country or Area  Year  Policies for Social Inclusion and Equity\n",
       "0     Afghanistan  2023                                       1.7\n",
       "1     Afghanistan  2022                                       1.7\n",
       "2     Afghanistan  2020                                       2.7\n",
       "3     Afghanistan  2019                                       2.7\n",
       "4     Afghanistan  2018                                       2.6"
      ]
     },
     "metadata": {},
     "output_type": "display_data"
    }
   ],
   "source": [
    "# Loading the dataframe\n",
    "cluster_C = pd.read_csv('Datasets/Policies_for_social_inclusion:equity_cluster_average.csv', \\\n",
    "    usecols = ['Country or Area', 'Year', 'Value'])\n",
    "\n",
    "# Renaming columns for clarity\n",
    "cluster_C = cluster_C.rename(columns={'Value':'Policies for Social Inclusion and Equity'})\n",
    "\n",
    "# Display the first few rows\n",
    "display(cluster_C.head())"
   ]
  },
  {
   "cell_type": "markdown",
   "metadata": {},
   "source": [
    "5. Dataframe with average CPIA rating data for the **Public Sector Management and Institutions** cluster (Cluster D)."
   ]
  },
  {
   "cell_type": "code",
   "execution_count": 6,
   "metadata": {},
   "outputs": [
    {
     "data": {
      "text/html": [
       "<div>\n",
       "<style scoped>\n",
       "    .dataframe tbody tr th:only-of-type {\n",
       "        vertical-align: middle;\n",
       "    }\n",
       "\n",
       "    .dataframe tbody tr th {\n",
       "        vertical-align: top;\n",
       "    }\n",
       "\n",
       "    .dataframe thead th {\n",
       "        text-align: right;\n",
       "    }\n",
       "</style>\n",
       "<table border=\"1\" class=\"dataframe\">\n",
       "  <thead>\n",
       "    <tr style=\"text-align: right;\">\n",
       "      <th></th>\n",
       "      <th>Country or Area</th>\n",
       "      <th>Year</th>\n",
       "      <th>Public Sector Management and Institutions</th>\n",
       "    </tr>\n",
       "  </thead>\n",
       "  <tbody>\n",
       "    <tr>\n",
       "      <th>0</th>\n",
       "      <td>Afghanistan</td>\n",
       "      <td>2023</td>\n",
       "      <td>1.6</td>\n",
       "    </tr>\n",
       "    <tr>\n",
       "      <th>1</th>\n",
       "      <td>Afghanistan</td>\n",
       "      <td>2022</td>\n",
       "      <td>1.7</td>\n",
       "    </tr>\n",
       "    <tr>\n",
       "      <th>2</th>\n",
       "      <td>Afghanistan</td>\n",
       "      <td>2020</td>\n",
       "      <td>2.6</td>\n",
       "    </tr>\n",
       "    <tr>\n",
       "      <th>3</th>\n",
       "      <td>Afghanistan</td>\n",
       "      <td>2019</td>\n",
       "      <td>2.6</td>\n",
       "    </tr>\n",
       "    <tr>\n",
       "      <th>4</th>\n",
       "      <td>Afghanistan</td>\n",
       "      <td>2018</td>\n",
       "      <td>2.6</td>\n",
       "    </tr>\n",
       "  </tbody>\n",
       "</table>\n",
       "</div>"
      ],
      "text/plain": [
       "  Country or Area  Year  Public Sector Management and Institutions\n",
       "0     Afghanistan  2023                                        1.6\n",
       "1     Afghanistan  2022                                        1.7\n",
       "2     Afghanistan  2020                                        2.6\n",
       "3     Afghanistan  2019                                        2.6\n",
       "4     Afghanistan  2018                                        2.6"
      ]
     },
     "metadata": {},
     "output_type": "display_data"
    }
   ],
   "source": [
    "# Loading the dataframe\n",
    "cluster_D = pd.read_csv('Datasets/Public_sector_management_and_institutions_cluster_average.csv', \\\n",
    "    usecols = ['Country or Area', 'Year', 'Value'])\n",
    "\n",
    "# Renaming columns for clarity\n",
    "cluster_D = cluster_D.rename(columns={'Value':'Public Sector Management and Institutions'})\n",
    "\n",
    "# Display the first few rows\n",
    "display(cluster_D.head())"
   ]
  },
  {
   "cell_type": "markdown",
   "metadata": {},
   "source": [
    "6. Merge the cluster_A, cluster_B, cluster_C and cluster_D dataframes into a single dataframe containing all cluster scores."
   ]
  },
  {
   "cell_type": "code",
   "execution_count": 7,
   "metadata": {},
   "outputs": [
    {
     "data": {
      "text/html": [
       "<div>\n",
       "<style scoped>\n",
       "    .dataframe tbody tr th:only-of-type {\n",
       "        vertical-align: middle;\n",
       "    }\n",
       "\n",
       "    .dataframe tbody tr th {\n",
       "        vertical-align: top;\n",
       "    }\n",
       "\n",
       "    .dataframe thead th {\n",
       "        text-align: right;\n",
       "    }\n",
       "</style>\n",
       "<table border=\"1\" class=\"dataframe\">\n",
       "  <thead>\n",
       "    <tr style=\"text-align: right;\">\n",
       "      <th></th>\n",
       "      <th>Country or Area</th>\n",
       "      <th>Year</th>\n",
       "      <th>Economic Management</th>\n",
       "      <th>Structural Policies</th>\n",
       "      <th>Policies for Social Inclusion and Equity</th>\n",
       "      <th>Public Sector Management and Institutions</th>\n",
       "    </tr>\n",
       "  </thead>\n",
       "  <tbody>\n",
       "    <tr>\n",
       "      <th>0</th>\n",
       "      <td>Afghanistan</td>\n",
       "      <td>2023</td>\n",
       "      <td>1.166667</td>\n",
       "      <td>2.166667</td>\n",
       "      <td>1.7</td>\n",
       "      <td>1.6</td>\n",
       "    </tr>\n",
       "    <tr>\n",
       "      <th>1</th>\n",
       "      <td>Afghanistan</td>\n",
       "      <td>2022</td>\n",
       "      <td>1.333333</td>\n",
       "      <td>2.166667</td>\n",
       "      <td>1.7</td>\n",
       "      <td>1.7</td>\n",
       "    </tr>\n",
       "    <tr>\n",
       "      <th>2</th>\n",
       "      <td>Afghanistan</td>\n",
       "      <td>2020</td>\n",
       "      <td>3.000000</td>\n",
       "      <td>2.333333</td>\n",
       "      <td>2.7</td>\n",
       "      <td>2.6</td>\n",
       "    </tr>\n",
       "    <tr>\n",
       "      <th>3</th>\n",
       "      <td>Afghanistan</td>\n",
       "      <td>2019</td>\n",
       "      <td>3.000000</td>\n",
       "      <td>2.500000</td>\n",
       "      <td>2.7</td>\n",
       "      <td>2.6</td>\n",
       "    </tr>\n",
       "    <tr>\n",
       "      <th>4</th>\n",
       "      <td>Afghanistan</td>\n",
       "      <td>2018</td>\n",
       "      <td>3.000000</td>\n",
       "      <td>2.500000</td>\n",
       "      <td>2.6</td>\n",
       "      <td>2.6</td>\n",
       "    </tr>\n",
       "  </tbody>\n",
       "</table>\n",
       "</div>"
      ],
      "text/plain": [
       "  Country or Area  Year  Economic Management  Structural Policies  \\\n",
       "0     Afghanistan  2023             1.166667             2.166667   \n",
       "1     Afghanistan  2022             1.333333             2.166667   \n",
       "2     Afghanistan  2020             3.000000             2.333333   \n",
       "3     Afghanistan  2019             3.000000             2.500000   \n",
       "4     Afghanistan  2018             3.000000             2.500000   \n",
       "\n",
       "   Policies for Social Inclusion and Equity  \\\n",
       "0                                       1.7   \n",
       "1                                       1.7   \n",
       "2                                       2.7   \n",
       "3                                       2.7   \n",
       "4                                       2.6   \n",
       "\n",
       "   Public Sector Management and Institutions  \n",
       "0                                        1.6  \n",
       "1                                        1.7  \n",
       "2                                        2.6  \n",
       "3                                        2.6  \n",
       "4                                        2.6  "
      ]
     },
     "metadata": {},
     "output_type": "display_data"
    }
   ],
   "source": [
    "# Join the dataframes cluster_A, cluster_B, cluster_C and cluster_D\n",
    "cpia_clusters = cluster_A.merge(cluster_B, on=['Country or Area','Year']) \\\n",
    "               .merge(cluster_C, on=['Country or Area','Year']) \\\n",
    "               .merge(cluster_D, on=['Country or Area','Year'])\n",
    "\n",
    "# Display the first few rows\n",
    "display(cpia_clusters.head())            "
   ]
  },
  {
   "cell_type": "markdown",
   "metadata": {},
   "source": [
    "7. Dataframe with cluster scores only for the countries in Africa"
   ]
  },
  {
   "cell_type": "code",
   "execution_count": 8,
   "metadata": {},
   "outputs": [
    {
     "data": {
      "text/html": [
       "<div>\n",
       "<style scoped>\n",
       "    .dataframe tbody tr th:only-of-type {\n",
       "        vertical-align: middle;\n",
       "    }\n",
       "\n",
       "    .dataframe tbody tr th {\n",
       "        vertical-align: top;\n",
       "    }\n",
       "\n",
       "    .dataframe thead th {\n",
       "        text-align: right;\n",
       "    }\n",
       "</style>\n",
       "<table border=\"1\" class=\"dataframe\">\n",
       "  <thead>\n",
       "    <tr style=\"text-align: right;\">\n",
       "      <th></th>\n",
       "      <th>Country or Area</th>\n",
       "      <th>Country Code</th>\n",
       "      <th>Sub-region</th>\n",
       "      <th>Intermediate-region</th>\n",
       "      <th>Year</th>\n",
       "      <th>Economic Management</th>\n",
       "      <th>Structural Policies</th>\n",
       "      <th>Policies for Social Inclusion and Equity</th>\n",
       "      <th>Public Sector Management and Institutions</th>\n",
       "    </tr>\n",
       "  </thead>\n",
       "  <tbody>\n",
       "    <tr>\n",
       "      <th>0</th>\n",
       "      <td>Angola</td>\n",
       "      <td>AGO</td>\n",
       "      <td>Sub-Saharan Africa</td>\n",
       "      <td>Middle Africa</td>\n",
       "      <td>2013</td>\n",
       "      <td>3.0</td>\n",
       "      <td>2.666667</td>\n",
       "      <td>2.7</td>\n",
       "      <td>2.3</td>\n",
       "    </tr>\n",
       "    <tr>\n",
       "      <th>1</th>\n",
       "      <td>Angola</td>\n",
       "      <td>AGO</td>\n",
       "      <td>Sub-Saharan Africa</td>\n",
       "      <td>Middle Africa</td>\n",
       "      <td>2012</td>\n",
       "      <td>3.0</td>\n",
       "      <td>2.666667</td>\n",
       "      <td>2.7</td>\n",
       "      <td>2.3</td>\n",
       "    </tr>\n",
       "    <tr>\n",
       "      <th>2</th>\n",
       "      <td>Angola</td>\n",
       "      <td>AGO</td>\n",
       "      <td>Sub-Saharan Africa</td>\n",
       "      <td>Middle Africa</td>\n",
       "      <td>2011</td>\n",
       "      <td>3.0</td>\n",
       "      <td>2.666667</td>\n",
       "      <td>2.8</td>\n",
       "      <td>2.3</td>\n",
       "    </tr>\n",
       "    <tr>\n",
       "      <th>3</th>\n",
       "      <td>Angola</td>\n",
       "      <td>AGO</td>\n",
       "      <td>Sub-Saharan Africa</td>\n",
       "      <td>Middle Africa</td>\n",
       "      <td>2010</td>\n",
       "      <td>3.0</td>\n",
       "      <td>2.833333</td>\n",
       "      <td>2.8</td>\n",
       "      <td>2.4</td>\n",
       "    </tr>\n",
       "    <tr>\n",
       "      <th>4</th>\n",
       "      <td>Angola</td>\n",
       "      <td>AGO</td>\n",
       "      <td>Sub-Saharan Africa</td>\n",
       "      <td>Middle Africa</td>\n",
       "      <td>2009</td>\n",
       "      <td>3.0</td>\n",
       "      <td>2.833333</td>\n",
       "      <td>2.9</td>\n",
       "      <td>2.4</td>\n",
       "    </tr>\n",
       "  </tbody>\n",
       "</table>\n",
       "</div>"
      ],
      "text/plain": [
       "  Country or Area Country Code          Sub-region Intermediate-region  Year  \\\n",
       "0          Angola          AGO  Sub-Saharan Africa       Middle Africa  2013   \n",
       "1          Angola          AGO  Sub-Saharan Africa       Middle Africa  2012   \n",
       "2          Angola          AGO  Sub-Saharan Africa       Middle Africa  2011   \n",
       "3          Angola          AGO  Sub-Saharan Africa       Middle Africa  2010   \n",
       "4          Angola          AGO  Sub-Saharan Africa       Middle Africa  2009   \n",
       "\n",
       "   Economic Management  Structural Policies  \\\n",
       "0                  3.0             2.666667   \n",
       "1                  3.0             2.666667   \n",
       "2                  3.0             2.666667   \n",
       "3                  3.0             2.833333   \n",
       "4                  3.0             2.833333   \n",
       "\n",
       "   Policies for Social Inclusion and Equity  \\\n",
       "0                                       2.7   \n",
       "1                                       2.7   \n",
       "2                                       2.8   \n",
       "3                                       2.8   \n",
       "4                                       2.9   \n",
       "\n",
       "   Public Sector Management and Institutions  \n",
       "0                                        2.3  \n",
       "1                                        2.3  \n",
       "2                                        2.3  \n",
       "3                                        2.4  \n",
       "4                                        2.4  "
      ]
     },
     "metadata": {},
     "output_type": "display_data"
    }
   ],
   "source": [
    "# Filter for countries in africa \n",
    "cpia_africa = countries_africa.merge(cpia_clusters, on='Country or Area')\n",
    "\n",
    "# Display the first few rows\n",
    "display(cpia_africa.head())"
   ]
  },
  {
   "cell_type": "code",
   "execution_count": 9,
   "metadata": {},
   "outputs": [
    {
     "data": {
      "text/html": [
       "<div>\n",
       "<style scoped>\n",
       "    .dataframe tbody tr th:only-of-type {\n",
       "        vertical-align: middle;\n",
       "    }\n",
       "\n",
       "    .dataframe tbody tr th {\n",
       "        vertical-align: top;\n",
       "    }\n",
       "\n",
       "    .dataframe thead th {\n",
       "        text-align: right;\n",
       "    }\n",
       "</style>\n",
       "<table border=\"1\" class=\"dataframe\">\n",
       "  <thead>\n",
       "    <tr style=\"text-align: right;\">\n",
       "      <th></th>\n",
       "      <th>Country or Area</th>\n",
       "      <th>Country Code</th>\n",
       "      <th>Sub-region</th>\n",
       "      <th>Intermediate-region</th>\n",
       "      <th>Year</th>\n",
       "      <th>Economic Management</th>\n",
       "      <th>Structural Policies</th>\n",
       "      <th>Policies for Social Inclusion and Equity</th>\n",
       "      <th>Public Sector Management and Institutions</th>\n",
       "      <th>Overall CPIA</th>\n",
       "    </tr>\n",
       "  </thead>\n",
       "  <tbody>\n",
       "    <tr>\n",
       "      <th>0</th>\n",
       "      <td>Angola</td>\n",
       "      <td>AGO</td>\n",
       "      <td>Sub-Saharan Africa</td>\n",
       "      <td>Middle Africa</td>\n",
       "      <td>2013</td>\n",
       "      <td>3.0</td>\n",
       "      <td>2.666667</td>\n",
       "      <td>2.7</td>\n",
       "      <td>2.3</td>\n",
       "      <td>2.666667</td>\n",
       "    </tr>\n",
       "    <tr>\n",
       "      <th>1</th>\n",
       "      <td>Angola</td>\n",
       "      <td>AGO</td>\n",
       "      <td>Sub-Saharan Africa</td>\n",
       "      <td>Middle Africa</td>\n",
       "      <td>2012</td>\n",
       "      <td>3.0</td>\n",
       "      <td>2.666667</td>\n",
       "      <td>2.7</td>\n",
       "      <td>2.3</td>\n",
       "      <td>2.666667</td>\n",
       "    </tr>\n",
       "    <tr>\n",
       "      <th>2</th>\n",
       "      <td>Angola</td>\n",
       "      <td>AGO</td>\n",
       "      <td>Sub-Saharan Africa</td>\n",
       "      <td>Middle Africa</td>\n",
       "      <td>2011</td>\n",
       "      <td>3.0</td>\n",
       "      <td>2.666667</td>\n",
       "      <td>2.8</td>\n",
       "      <td>2.3</td>\n",
       "      <td>2.691667</td>\n",
       "    </tr>\n",
       "    <tr>\n",
       "      <th>3</th>\n",
       "      <td>Angola</td>\n",
       "      <td>AGO</td>\n",
       "      <td>Sub-Saharan Africa</td>\n",
       "      <td>Middle Africa</td>\n",
       "      <td>2010</td>\n",
       "      <td>3.0</td>\n",
       "      <td>2.833333</td>\n",
       "      <td>2.8</td>\n",
       "      <td>2.4</td>\n",
       "      <td>2.758333</td>\n",
       "    </tr>\n",
       "    <tr>\n",
       "      <th>4</th>\n",
       "      <td>Angola</td>\n",
       "      <td>AGO</td>\n",
       "      <td>Sub-Saharan Africa</td>\n",
       "      <td>Middle Africa</td>\n",
       "      <td>2009</td>\n",
       "      <td>3.0</td>\n",
       "      <td>2.833333</td>\n",
       "      <td>2.9</td>\n",
       "      <td>2.4</td>\n",
       "      <td>2.783333</td>\n",
       "    </tr>\n",
       "  </tbody>\n",
       "</table>\n",
       "</div>"
      ],
      "text/plain": [
       "  Country or Area Country Code          Sub-region Intermediate-region  Year  \\\n",
       "0          Angola          AGO  Sub-Saharan Africa       Middle Africa  2013   \n",
       "1          Angola          AGO  Sub-Saharan Africa       Middle Africa  2012   \n",
       "2          Angola          AGO  Sub-Saharan Africa       Middle Africa  2011   \n",
       "3          Angola          AGO  Sub-Saharan Africa       Middle Africa  2010   \n",
       "4          Angola          AGO  Sub-Saharan Africa       Middle Africa  2009   \n",
       "\n",
       "   Economic Management  Structural Policies  \\\n",
       "0                  3.0             2.666667   \n",
       "1                  3.0             2.666667   \n",
       "2                  3.0             2.666667   \n",
       "3                  3.0             2.833333   \n",
       "4                  3.0             2.833333   \n",
       "\n",
       "   Policies for Social Inclusion and Equity  \\\n",
       "0                                       2.7   \n",
       "1                                       2.7   \n",
       "2                                       2.8   \n",
       "3                                       2.8   \n",
       "4                                       2.9   \n",
       "\n",
       "   Public Sector Management and Institutions  Overall CPIA  \n",
       "0                                        2.3      2.666667  \n",
       "1                                        2.3      2.666667  \n",
       "2                                        2.3      2.691667  \n",
       "3                                        2.4      2.758333  \n",
       "4                                        2.4      2.783333  "
      ]
     },
     "execution_count": 9,
     "metadata": {},
     "output_type": "execute_result"
    }
   ],
   "source": [
    "# List of cluster names\n",
    "clusters = ['Economic Management', 'Structural Policies', 'Policies for Social Inclusion and Equity', 'Public Sector Management and Institutions']\n",
    "\n",
    "# Adding an additional column to indicate the overall CPIA score\n",
    "cpia_africa['Overall CPIA'] = cpia_africa[clusters].mean(axis=1)\n",
    "\n",
    "# Display the first few rows\n",
    "cpia_africa.head()"
   ]
  },
  {
   "cell_type": "markdown",
   "metadata": {},
   "source": [
    "### Exploratory Data Analysis\n",
    "1. **Understanding the dataset structure**"
   ]
  },
  {
   "cell_type": "code",
   "execution_count": 10,
   "metadata": {},
   "outputs": [
    {
     "name": "stdout",
     "output_type": "stream",
     "text": [
      "<class 'pandas.core.frame.DataFrame'>\n",
      "RangeIndex: 650 entries, 0 to 649\n",
      "Data columns (total 10 columns):\n",
      " #   Column                                     Non-Null Count  Dtype  \n",
      "---  ------                                     --------------  -----  \n",
      " 0   Country or Area                            650 non-null    object \n",
      " 1   Country Code                               650 non-null    object \n",
      " 2   Sub-region                                 650 non-null    object \n",
      " 3   Intermediate-region                        650 non-null    object \n",
      " 4   Year                                       650 non-null    int64  \n",
      " 5   Economic Management                        650 non-null    float64\n",
      " 6   Structural Policies                        650 non-null    float64\n",
      " 7   Policies for Social Inclusion and Equity   650 non-null    float64\n",
      " 8   Public Sector Management and Institutions  650 non-null    float64\n",
      " 9   Overall CPIA                               650 non-null    float64\n",
      "dtypes: float64(5), int64(1), object(4)\n",
      "memory usage: 50.9+ KB\n"
     ]
    }
   ],
   "source": [
    "cpia_africa.info()"
   ]
  },
  {
   "cell_type": "code",
   "execution_count": 11,
   "metadata": {},
   "outputs": [
    {
     "data": {
      "text/html": [
       "<div>\n",
       "<style scoped>\n",
       "    .dataframe tbody tr th:only-of-type {\n",
       "        vertical-align: middle;\n",
       "    }\n",
       "\n",
       "    .dataframe tbody tr th {\n",
       "        vertical-align: top;\n",
       "    }\n",
       "\n",
       "    .dataframe thead th {\n",
       "        text-align: right;\n",
       "    }\n",
       "</style>\n",
       "<table border=\"1\" class=\"dataframe\">\n",
       "  <thead>\n",
       "    <tr style=\"text-align: right;\">\n",
       "      <th></th>\n",
       "      <th>Year</th>\n",
       "      <th>Economic Management</th>\n",
       "      <th>Structural Policies</th>\n",
       "      <th>Policies for Social Inclusion and Equity</th>\n",
       "      <th>Public Sector Management and Institutions</th>\n",
       "      <th>Overall CPIA</th>\n",
       "    </tr>\n",
       "  </thead>\n",
       "  <tbody>\n",
       "    <tr>\n",
       "      <th>count</th>\n",
       "      <td>650.000000</td>\n",
       "      <td>650.000000</td>\n",
       "      <td>650.000000</td>\n",
       "      <td>650.000000</td>\n",
       "      <td>650.000000</td>\n",
       "      <td>650.000000</td>\n",
       "    </tr>\n",
       "    <tr>\n",
       "      <th>mean</th>\n",
       "      <td>2014.100000</td>\n",
       "      <td>3.259897</td>\n",
       "      <td>3.182000</td>\n",
       "      <td>3.206615</td>\n",
       "      <td>2.938154</td>\n",
       "      <td>3.146667</td>\n",
       "    </tr>\n",
       "    <tr>\n",
       "      <th>std</th>\n",
       "      <td>5.469132</td>\n",
       "      <td>0.744815</td>\n",
       "      <td>0.570413</td>\n",
       "      <td>0.525969</td>\n",
       "      <td>0.529723</td>\n",
       "      <td>0.538350</td>\n",
       "    </tr>\n",
       "    <tr>\n",
       "      <th>min</th>\n",
       "      <td>2005.000000</td>\n",
       "      <td>1.000000</td>\n",
       "      <td>1.166667</td>\n",
       "      <td>1.500000</td>\n",
       "      <td>1.300000</td>\n",
       "      <td>1.400000</td>\n",
       "    </tr>\n",
       "    <tr>\n",
       "      <th>25%</th>\n",
       "      <td>2009.000000</td>\n",
       "      <td>2.833333</td>\n",
       "      <td>2.833333</td>\n",
       "      <td>2.900000</td>\n",
       "      <td>2.600000</td>\n",
       "      <td>2.795833</td>\n",
       "    </tr>\n",
       "    <tr>\n",
       "      <th>50%</th>\n",
       "      <td>2014.000000</td>\n",
       "      <td>3.333333</td>\n",
       "      <td>3.166670</td>\n",
       "      <td>3.300000</td>\n",
       "      <td>3.000000</td>\n",
       "      <td>3.237500</td>\n",
       "    </tr>\n",
       "    <tr>\n",
       "      <th>75%</th>\n",
       "      <td>2019.000000</td>\n",
       "      <td>3.833333</td>\n",
       "      <td>3.500000</td>\n",
       "      <td>3.600000</td>\n",
       "      <td>3.300000</td>\n",
       "      <td>3.516667</td>\n",
       "    </tr>\n",
       "    <tr>\n",
       "      <th>max</th>\n",
       "      <td>2023.000000</td>\n",
       "      <td>4.500000</td>\n",
       "      <td>4.166670</td>\n",
       "      <td>4.400000</td>\n",
       "      <td>4.100000</td>\n",
       "      <td>4.158333</td>\n",
       "    </tr>\n",
       "  </tbody>\n",
       "</table>\n",
       "</div>"
      ],
      "text/plain": [
       "              Year  Economic Management  Structural Policies  \\\n",
       "count   650.000000           650.000000           650.000000   \n",
       "mean   2014.100000             3.259897             3.182000   \n",
       "std       5.469132             0.744815             0.570413   \n",
       "min    2005.000000             1.000000             1.166667   \n",
       "25%    2009.000000             2.833333             2.833333   \n",
       "50%    2014.000000             3.333333             3.166670   \n",
       "75%    2019.000000             3.833333             3.500000   \n",
       "max    2023.000000             4.500000             4.166670   \n",
       "\n",
       "       Policies for Social Inclusion and Equity  \\\n",
       "count                                650.000000   \n",
       "mean                                   3.206615   \n",
       "std                                    0.525969   \n",
       "min                                    1.500000   \n",
       "25%                                    2.900000   \n",
       "50%                                    3.300000   \n",
       "75%                                    3.600000   \n",
       "max                                    4.400000   \n",
       "\n",
       "       Public Sector Management and Institutions  Overall CPIA  \n",
       "count                                 650.000000    650.000000  \n",
       "mean                                    2.938154      3.146667  \n",
       "std                                     0.529723      0.538350  \n",
       "min                                     1.300000      1.400000  \n",
       "25%                                     2.600000      2.795833  \n",
       "50%                                     3.000000      3.237500  \n",
       "75%                                     3.300000      3.516667  \n",
       "max                                     4.100000      4.158333  "
      ]
     },
     "execution_count": 11,
     "metadata": {},
     "output_type": "execute_result"
    }
   ],
   "source": [
    "# Summary statistics\n",
    "cpia_africa.describe()"
   ]
  },
  {
   "cell_type": "code",
   "execution_count": 12,
   "metadata": {},
   "outputs": [
    {
     "data": {
      "text/plain": [
       "Country or Area                              0\n",
       "Country Code                                 0\n",
       "Sub-region                                   0\n",
       "Intermediate-region                          0\n",
       "Year                                         0\n",
       "Economic Management                          0\n",
       "Structural Policies                          0\n",
       "Policies for Social Inclusion and Equity     0\n",
       "Public Sector Management and Institutions    0\n",
       "Overall CPIA                                 0\n",
       "dtype: int64"
      ]
     },
     "execution_count": 12,
     "metadata": {},
     "output_type": "execute_result"
    }
   ],
   "source": [
    "# Checking for null values\n",
    "cpia_africa.isnull().sum()"
   ]
  },
  {
   "cell_type": "code",
   "execution_count": 13,
   "metadata": {},
   "outputs": [
    {
     "data": {
      "text/plain": [
       "array(['Angola', 'Benin', 'Burkina Faso', 'Burundi', 'Cabo Verde',\n",
       "       'Cameroon', 'Central African Republic', 'Chad', 'Comoros', 'Congo',\n",
       "       'Djibouti', 'Eritrea', 'Ethiopia', 'Ghana', 'Guinea',\n",
       "       'Guinea-Bissau', 'Kenya', 'Lesotho', 'Liberia', 'Madagascar',\n",
       "       'Malawi', 'Mali', 'Mauritania', 'Mozambique', 'Niger', 'Nigeria',\n",
       "       'Rwanda', 'Senegal', 'Sierra Leone', 'Somalia', 'South Sudan',\n",
       "       'Sudan', 'Togo', 'Uganda', 'Zambia', 'Zimbabwe'], dtype=object)"
      ]
     },
     "execution_count": 13,
     "metadata": {},
     "output_type": "execute_result"
    }
   ],
   "source": [
    "# Checking for any inconsistensies in country names\n",
    "cpia_africa['Country or Area'].unique()"
   ]
  },
  {
   "cell_type": "markdown",
   "metadata": {},
   "source": [
    "**Question 1: How many African countries are included in the dataset?**"
   ]
  },
  {
   "cell_type": "code",
   "execution_count": 14,
   "metadata": {},
   "outputs": [
    {
     "name": "stdout",
     "output_type": "stream",
     "text": [
      "The number of African countries included in the dataset is 36.\n"
     ]
    }
   ],
   "source": [
    "# Checking for number of countries\n",
    "print(f'The number of African countries included in the dataset is {cpia_africa['Country or Area'].nunique()}.')"
   ]
  },
  {
   "cell_type": "markdown",
   "metadata": {},
   "source": [
    "**Question 2: How are the different clusters related to each other?**"
   ]
  },
  {
   "cell_type": "code",
   "execution_count": 15,
   "metadata": {},
   "outputs": [
    {
     "data": {
      "image/png": "[encoded data removed]",
      "text/plain": [
       "<Figure size 640x480 with 2 Axes>"
      ]
     },
     "metadata": {},
     "output_type": "display_data"
    }
   ],
   "source": [
    "# List of numerical variables\n",
    "ratings = ['Economic Management', 'Structural Policies', 'Policies for Social Inclusion and Equity', 'Public Sector Management and Institutions', 'Overall CPIA']\n",
    "\n",
    "sns.heatmap(cpia_africa[ratings].corr(), annot=True)\n",
    "plt.title('Correlation between CPIA clusters')\n",
    "plt.show()"
   ]
  },
  {
   "cell_type": "markdown",
   "metadata": {},
   "source": [
    "All clusters are highly correlated with each other, with the relationship between **Policies for Social Inclusion and Equity** and **Public Administration and Institutions** being the highest."
   ]
  },
  {
   "cell_type": "code",
   "execution_count": 16,
   "metadata": {},
   "outputs": [],
   "source": [
    "#cpia_africa.to_csv('cpia_africa.csv', index=False)"
   ]
  },
  {
   "cell_type": "markdown",
   "metadata": {},
   "source": [
    "2. **Analysing how African countries perform based on CPIA ratings**\n",
    "\n",
    "**Question 3: How are the scores distributed across the different categories?**"
   ]
  },
  {
   "cell_type": "code",
   "execution_count": 17,
   "metadata": {},
   "outputs": [
    {
     "data": {
      "image/png": "[encoded data removed]",
      "text/plain": [
       "<Figure size 2000x2000 with 6 Axes>"
      ]
     },
     "metadata": {},
     "output_type": "display_data"
    }
   ],
   "source": [
    "# Distribution of the numerical variables\n",
    "plt.style.use('ggplot')\n",
    "cpia_africa.drop(columns=['Year']).hist(figsize=(20,20), edgecolor='black', linewidth=1.2, bins=20, grid=False) \n",
    "plt.show()"
   ]
  },
  {
   "cell_type": "markdown",
   "metadata": {},
   "source": [
    "The distributions of the scores tend to follow a normal distribution. They are also slightly skewed to the left, indicating that there are fewer countries with lower CPIA scores."
   ]
  },
  {
   "cell_type": "markdown",
   "metadata": {},
   "source": [
    "**Question 4: How do the ratings differ across clusters?**"
   ]
  },
  {
   "cell_type": "code",
   "execution_count": 18,
   "metadata": {},
   "outputs": [
    {
     "data": {
      "image/png": "[encoded data removed]",
      "text/plain": [
       "<Figure size 640x480 with 1 Axes>"
      ]
     },
     "metadata": {},
     "output_type": "display_data"
    }
   ],
   "source": [
    "# Visualizing the spread and outliers in CPIA rating variables using boxplots\n",
    "cpia_africa[ratings].plot(kind='box')\n",
    "plt.title('Distribution of CPIA Ratings Across Africa')\n",
    "plt.xlabel('Category')\n",
    "plt.ylabel('Rating')\n",
    "plt.xticks(rotation=90)\n",
    "plt.show()"
   ]
  },
  {
   "cell_type": "markdown",
   "metadata": {},
   "source": [
    "For all categories, the median score is between 3 and 3.5, suggesting that African countries perform at a moderate level across the CPIA indicators. Among the categories, the **Public Sector Management and Institutions** cluster is the weakest, indicating weakness in governance-related functions. The Economic Management cluster has a wider range of scores, showing inconsistencies in performance across African countries. In addition, the presence of outliers in all categories indicates the existence of a few countries with significantly weaker performance in certain policy areas."
   ]
  },
  {
   "cell_type": "markdown",
   "metadata": {},
   "source": [
    "**Question 5: How do the ratings differ between different regions in Africa?**"
   ]
  },
  {
   "cell_type": "code",
   "execution_count": 19,
   "metadata": {},
   "outputs": [
    {
     "data": {
      "text/html": [
       "<div>\n",
       "<style scoped>\n",
       "    .dataframe tbody tr th:only-of-type {\n",
       "        vertical-align: middle;\n",
       "    }\n",
       "\n",
       "    .dataframe tbody tr th {\n",
       "        vertical-align: top;\n",
       "    }\n",
       "\n",
       "    .dataframe thead th {\n",
       "        text-align: right;\n",
       "    }\n",
       "</style>\n",
       "<table border=\"1\" class=\"dataframe\">\n",
       "  <thead>\n",
       "    <tr style=\"text-align: right;\">\n",
       "      <th></th>\n",
       "      <th>Country or Area</th>\n",
       "    </tr>\n",
       "    <tr>\n",
       "      <th>Sub-region</th>\n",
       "      <th></th>\n",
       "    </tr>\n",
       "  </thead>\n",
       "  <tbody>\n",
       "    <tr>\n",
       "      <th>Northern Africa</th>\n",
       "      <td>1</td>\n",
       "    </tr>\n",
       "    <tr>\n",
       "      <th>Sub-Saharan Africa</th>\n",
       "      <td>35</td>\n",
       "    </tr>\n",
       "  </tbody>\n",
       "</table>\n",
       "</div>"
      ],
      "text/plain": [
       "                    Country or Area\n",
       "Sub-region                         \n",
       "Northern Africa                   1\n",
       "Sub-Saharan Africa               35"
      ]
     },
     "execution_count": 19,
     "metadata": {},
     "output_type": "execute_result"
    }
   ],
   "source": [
    "# Count unique countries within each sub-region\n",
    "cpia_africa[['Sub-region', 'Country or Area']].drop_duplicates().groupby('Sub-region').count()"
   ]
  },
  {
   "cell_type": "markdown",
   "metadata": {},
   "source": [
    "Since there is only one country from Northern Africa represented in the dataset, conducting a meaningful comparison of performance across sub-regions is not feasible."
   ]
  },
  {
   "cell_type": "code",
   "execution_count": 20,
   "metadata": {},
   "outputs": [
    {
     "data": {
      "text/html": [
       "<div>\n",
       "<style scoped>\n",
       "    .dataframe tbody tr th:only-of-type {\n",
       "        vertical-align: middle;\n",
       "    }\n",
       "\n",
       "    .dataframe tbody tr th {\n",
       "        vertical-align: top;\n",
       "    }\n",
       "\n",
       "    .dataframe thead th {\n",
       "        text-align: right;\n",
       "    }\n",
       "</style>\n",
       "<table border=\"1\" class=\"dataframe\">\n",
       "  <thead>\n",
       "    <tr style=\"text-align: right;\">\n",
       "      <th></th>\n",
       "      <th>Country or Area</th>\n",
       "    </tr>\n",
       "    <tr>\n",
       "      <th>Intermediate-region</th>\n",
       "      <th></th>\n",
       "    </tr>\n",
       "  </thead>\n",
       "  <tbody>\n",
       "    <tr>\n",
       "      <th>Eastern Africa</th>\n",
       "      <td>15</td>\n",
       "    </tr>\n",
       "    <tr>\n",
       "      <th>Western Africa</th>\n",
       "      <td>14</td>\n",
       "    </tr>\n",
       "    <tr>\n",
       "      <th>Middle Africa</th>\n",
       "      <td>5</td>\n",
       "    </tr>\n",
       "    <tr>\n",
       "      <th>Northern Africa</th>\n",
       "      <td>1</td>\n",
       "    </tr>\n",
       "    <tr>\n",
       "      <th>Southern Africa</th>\n",
       "      <td>1</td>\n",
       "    </tr>\n",
       "  </tbody>\n",
       "</table>\n",
       "</div>"
      ],
      "text/plain": [
       "                     Country or Area\n",
       "Intermediate-region                 \n",
       "Eastern Africa                    15\n",
       "Western Africa                    14\n",
       "Middle Africa                      5\n",
       "Northern Africa                    1\n",
       "Southern Africa                    1"
      ]
     },
     "execution_count": 20,
     "metadata": {},
     "output_type": "execute_result"
    }
   ],
   "source": [
    "# Count unique countries within each intermediate-region\n",
    "cpia_africa[['Intermediate-region', 'Country or Area']].drop_duplicates().groupby('Intermediate-region')\\\n",
    "    .count().sort_values(by='Country or Area', ascending=False) "
   ]
  },
  {
   "cell_type": "code",
   "execution_count": 21,
   "metadata": {},
   "outputs": [
    {
     "data": {
      "text/html": [
       "<div>\n",
       "<style scoped>\n",
       "    .dataframe tbody tr th:only-of-type {\n",
       "        vertical-align: middle;\n",
       "    }\n",
       "\n",
       "    .dataframe tbody tr th {\n",
       "        vertical-align: top;\n",
       "    }\n",
       "\n",
       "    .dataframe thead th {\n",
       "        text-align: right;\n",
       "    }\n",
       "</style>\n",
       "<table border=\"1\" class=\"dataframe\">\n",
       "  <thead>\n",
       "    <tr style=\"text-align: right;\">\n",
       "      <th></th>\n",
       "      <th>Intermediate-region</th>\n",
       "      <th>Country or Area</th>\n",
       "    </tr>\n",
       "  </thead>\n",
       "  <tbody>\n",
       "    <tr>\n",
       "      <th>0</th>\n",
       "      <td>Middle Africa</td>\n",
       "      <td>Angola</td>\n",
       "    </tr>\n",
       "    <tr>\n",
       "      <th>85</th>\n",
       "      <td>Middle Africa</td>\n",
       "      <td>Cameroon</td>\n",
       "    </tr>\n",
       "    <tr>\n",
       "      <th>104</th>\n",
       "      <td>Middle Africa</td>\n",
       "      <td>Central African Republic</td>\n",
       "    </tr>\n",
       "    <tr>\n",
       "      <th>123</th>\n",
       "      <td>Middle Africa</td>\n",
       "      <td>Chad</td>\n",
       "    </tr>\n",
       "    <tr>\n",
       "      <th>161</th>\n",
       "      <td>Middle Africa</td>\n",
       "      <td>Congo</td>\n",
       "    </tr>\n",
       "  </tbody>\n",
       "</table>\n",
       "</div>"
      ],
      "text/plain": [
       "    Intermediate-region           Country or Area\n",
       "0         Middle Africa                    Angola\n",
       "85        Middle Africa                  Cameroon\n",
       "104       Middle Africa  Central African Republic\n",
       "123       Middle Africa                      Chad\n",
       "161       Middle Africa                     Congo"
      ]
     },
     "metadata": {},
     "output_type": "display_data"
    },
    {
     "data": {
      "text/html": [
       "<div>\n",
       "<style scoped>\n",
       "    .dataframe tbody tr th:only-of-type {\n",
       "        vertical-align: middle;\n",
       "    }\n",
       "\n",
       "    .dataframe tbody tr th {\n",
       "        vertical-align: top;\n",
       "    }\n",
       "\n",
       "    .dataframe thead th {\n",
       "        text-align: right;\n",
       "    }\n",
       "</style>\n",
       "<table border=\"1\" class=\"dataframe\">\n",
       "  <thead>\n",
       "    <tr style=\"text-align: right;\">\n",
       "      <th></th>\n",
       "      <th>Intermediate-region</th>\n",
       "      <th>Country or Area</th>\n",
       "    </tr>\n",
       "  </thead>\n",
       "  <tbody>\n",
       "    <tr>\n",
       "      <th>9</th>\n",
       "      <td>Western Africa</td>\n",
       "      <td>Benin</td>\n",
       "    </tr>\n",
       "    <tr>\n",
       "      <th>28</th>\n",
       "      <td>Western Africa</td>\n",
       "      <td>Burkina Faso</td>\n",
       "    </tr>\n",
       "    <tr>\n",
       "      <th>66</th>\n",
       "      <td>Western Africa</td>\n",
       "      <td>Cabo Verde</td>\n",
       "    </tr>\n",
       "    <tr>\n",
       "      <th>237</th>\n",
       "      <td>Western Africa</td>\n",
       "      <td>Ghana</td>\n",
       "    </tr>\n",
       "    <tr>\n",
       "      <th>256</th>\n",
       "      <td>Western Africa</td>\n",
       "      <td>Guinea</td>\n",
       "    </tr>\n",
       "    <tr>\n",
       "      <th>275</th>\n",
       "      <td>Western Africa</td>\n",
       "      <td>Guinea-Bissau</td>\n",
       "    </tr>\n",
       "    <tr>\n",
       "      <th>332</th>\n",
       "      <td>Western Africa</td>\n",
       "      <td>Liberia</td>\n",
       "    </tr>\n",
       "    <tr>\n",
       "      <th>385</th>\n",
       "      <td>Western Africa</td>\n",
       "      <td>Mali</td>\n",
       "    </tr>\n",
       "    <tr>\n",
       "      <th>404</th>\n",
       "      <td>Western Africa</td>\n",
       "      <td>Mauritania</td>\n",
       "    </tr>\n",
       "    <tr>\n",
       "      <th>442</th>\n",
       "      <td>Western Africa</td>\n",
       "      <td>Niger</td>\n",
       "    </tr>\n",
       "    <tr>\n",
       "      <th>461</th>\n",
       "      <td>Western Africa</td>\n",
       "      <td>Nigeria</td>\n",
       "    </tr>\n",
       "    <tr>\n",
       "      <th>499</th>\n",
       "      <td>Western Africa</td>\n",
       "      <td>Senegal</td>\n",
       "    </tr>\n",
       "    <tr>\n",
       "      <th>518</th>\n",
       "      <td>Western Africa</td>\n",
       "      <td>Sierra Leone</td>\n",
       "    </tr>\n",
       "    <tr>\n",
       "      <th>574</th>\n",
       "      <td>Western Africa</td>\n",
       "      <td>Togo</td>\n",
       "    </tr>\n",
       "  </tbody>\n",
       "</table>\n",
       "</div>"
      ],
      "text/plain": [
       "    Intermediate-region Country or Area\n",
       "9        Western Africa           Benin\n",
       "28       Western Africa    Burkina Faso\n",
       "66       Western Africa      Cabo Verde\n",
       "237      Western Africa           Ghana\n",
       "256      Western Africa          Guinea\n",
       "275      Western Africa   Guinea-Bissau\n",
       "332      Western Africa         Liberia\n",
       "385      Western Africa            Mali\n",
       "404      Western Africa      Mauritania\n",
       "442      Western Africa           Niger\n",
       "461      Western Africa         Nigeria\n",
       "499      Western Africa         Senegal\n",
       "518      Western Africa    Sierra Leone\n",
       "574      Western Africa            Togo"
      ]
     },
     "metadata": {},
     "output_type": "display_data"
    },
    {
     "data": {
      "text/html": [
       "<div>\n",
       "<style scoped>\n",
       "    .dataframe tbody tr th:only-of-type {\n",
       "        vertical-align: middle;\n",
       "    }\n",
       "\n",
       "    .dataframe tbody tr th {\n",
       "        vertical-align: top;\n",
       "    }\n",
       "\n",
       "    .dataframe thead th {\n",
       "        text-align: right;\n",
       "    }\n",
       "</style>\n",
       "<table border=\"1\" class=\"dataframe\">\n",
       "  <thead>\n",
       "    <tr style=\"text-align: right;\">\n",
       "      <th></th>\n",
       "      <th>Intermediate-region</th>\n",
       "      <th>Country or Area</th>\n",
       "    </tr>\n",
       "  </thead>\n",
       "  <tbody>\n",
       "    <tr>\n",
       "      <th>47</th>\n",
       "      <td>Eastern Africa</td>\n",
       "      <td>Burundi</td>\n",
       "    </tr>\n",
       "    <tr>\n",
       "      <th>142</th>\n",
       "      <td>Eastern Africa</td>\n",
       "      <td>Comoros</td>\n",
       "    </tr>\n",
       "    <tr>\n",
       "      <th>180</th>\n",
       "      <td>Eastern Africa</td>\n",
       "      <td>Djibouti</td>\n",
       "    </tr>\n",
       "    <tr>\n",
       "      <th>199</th>\n",
       "      <td>Eastern Africa</td>\n",
       "      <td>Eritrea</td>\n",
       "    </tr>\n",
       "    <tr>\n",
       "      <th>218</th>\n",
       "      <td>Eastern Africa</td>\n",
       "      <td>Ethiopia</td>\n",
       "    </tr>\n",
       "    <tr>\n",
       "      <th>294</th>\n",
       "      <td>Eastern Africa</td>\n",
       "      <td>Kenya</td>\n",
       "    </tr>\n",
       "    <tr>\n",
       "      <th>347</th>\n",
       "      <td>Eastern Africa</td>\n",
       "      <td>Madagascar</td>\n",
       "    </tr>\n",
       "    <tr>\n",
       "      <th>366</th>\n",
       "      <td>Eastern Africa</td>\n",
       "      <td>Malawi</td>\n",
       "    </tr>\n",
       "    <tr>\n",
       "      <th>423</th>\n",
       "      <td>Eastern Africa</td>\n",
       "      <td>Mozambique</td>\n",
       "    </tr>\n",
       "    <tr>\n",
       "      <th>480</th>\n",
       "      <td>Eastern Africa</td>\n",
       "      <td>Rwanda</td>\n",
       "    </tr>\n",
       "    <tr>\n",
       "      <th>537</th>\n",
       "      <td>Eastern Africa</td>\n",
       "      <td>Somalia</td>\n",
       "    </tr>\n",
       "    <tr>\n",
       "      <th>543</th>\n",
       "      <td>Eastern Africa</td>\n",
       "      <td>South Sudan</td>\n",
       "    </tr>\n",
       "    <tr>\n",
       "      <th>593</th>\n",
       "      <td>Eastern Africa</td>\n",
       "      <td>Uganda</td>\n",
       "    </tr>\n",
       "    <tr>\n",
       "      <th>612</th>\n",
       "      <td>Eastern Africa</td>\n",
       "      <td>Zambia</td>\n",
       "    </tr>\n",
       "    <tr>\n",
       "      <th>631</th>\n",
       "      <td>Eastern Africa</td>\n",
       "      <td>Zimbabwe</td>\n",
       "    </tr>\n",
       "  </tbody>\n",
       "</table>\n",
       "</div>"
      ],
      "text/plain": [
       "    Intermediate-region Country or Area\n",
       "47       Eastern Africa         Burundi\n",
       "142      Eastern Africa         Comoros\n",
       "180      Eastern Africa        Djibouti\n",
       "199      Eastern Africa         Eritrea\n",
       "218      Eastern Africa        Ethiopia\n",
       "294      Eastern Africa           Kenya\n",
       "347      Eastern Africa      Madagascar\n",
       "366      Eastern Africa          Malawi\n",
       "423      Eastern Africa      Mozambique\n",
       "480      Eastern Africa          Rwanda\n",
       "537      Eastern Africa         Somalia\n",
       "543      Eastern Africa     South Sudan\n",
       "593      Eastern Africa          Uganda\n",
       "612      Eastern Africa          Zambia\n",
       "631      Eastern Africa        Zimbabwe"
      ]
     },
     "metadata": {},
     "output_type": "display_data"
    },
    {
     "data": {
      "text/html": [
       "<div>\n",
       "<style scoped>\n",
       "    .dataframe tbody tr th:only-of-type {\n",
       "        vertical-align: middle;\n",
       "    }\n",
       "\n",
       "    .dataframe tbody tr th {\n",
       "        vertical-align: top;\n",
       "    }\n",
       "\n",
       "    .dataframe thead th {\n",
       "        text-align: right;\n",
       "    }\n",
       "</style>\n",
       "<table border=\"1\" class=\"dataframe\">\n",
       "  <thead>\n",
       "    <tr style=\"text-align: right;\">\n",
       "      <th></th>\n",
       "      <th>Intermediate-region</th>\n",
       "      <th>Country or Area</th>\n",
       "    </tr>\n",
       "  </thead>\n",
       "  <tbody>\n",
       "    <tr>\n",
       "      <th>313</th>\n",
       "      <td>Southern Africa</td>\n",
       "      <td>Lesotho</td>\n",
       "    </tr>\n",
       "  </tbody>\n",
       "</table>\n",
       "</div>"
      ],
      "text/plain": [
       "    Intermediate-region Country or Area\n",
       "313     Southern Africa         Lesotho"
      ]
     },
     "metadata": {},
     "output_type": "display_data"
    },
    {
     "data": {
      "text/html": [
       "<div>\n",
       "<style scoped>\n",
       "    .dataframe tbody tr th:only-of-type {\n",
       "        vertical-align: middle;\n",
       "    }\n",
       "\n",
       "    .dataframe tbody tr th {\n",
       "        vertical-align: top;\n",
       "    }\n",
       "\n",
       "    .dataframe thead th {\n",
       "        text-align: right;\n",
       "    }\n",
       "</style>\n",
       "<table border=\"1\" class=\"dataframe\">\n",
       "  <thead>\n",
       "    <tr style=\"text-align: right;\">\n",
       "      <th></th>\n",
       "      <th>Intermediate-region</th>\n",
       "      <th>Country or Area</th>\n",
       "    </tr>\n",
       "  </thead>\n",
       "  <tbody>\n",
       "    <tr>\n",
       "      <th>555</th>\n",
       "      <td>Northern Africa</td>\n",
       "      <td>Sudan</td>\n",
       "    </tr>\n",
       "  </tbody>\n",
       "</table>\n",
       "</div>"
      ],
      "text/plain": [
       "    Intermediate-region Country or Area\n",
       "555     Northern Africa           Sudan"
      ]
     },
     "metadata": {},
     "output_type": "display_data"
    }
   ],
   "source": [
    "# List of countries in each intermediate-region\n",
    "\n",
    "# Prepare the data\n",
    "region_wise_countries = cpia_africa[['Intermediate-region', 'Country or Area']].drop_duplicates()\n",
    "\n",
    "# List of Intermediate regions\n",
    "intermediate_regions = region_wise_countries['Intermediate-region'].unique()\n",
    "\n",
    "# Display the countries by region\n",
    "for region in intermediate_regions:\n",
    "    display(region_wise_countries[region_wise_countries['Intermediate-region']==region])"
   ]
  },
  {
   "cell_type": "code",
   "execution_count": 22,
   "metadata": {},
   "outputs": [
    {
     "data": {
      "application/vnd.plotly.v1+json": {
       "config": {
        "plotlyServerURL": "https://plot.ly"
       },
       "data": [
        {
         "colorscale": [
          [
           0,
           "#636EFA"
          ],
          [
           1,
           "#636EFA"
          ]
         ],
         "geo": "geo",
         "hovertemplate": "Intermediate-region=Middle Africa<br>Country or Area=%{location}<extra></extra>",
         "locationmode": "country names",
         "locations": [
          "Angola",
          "Cameroon",
          "Central African Republic",
          "Chad",
          "Congo"
         ],
         "name": "Middle Africa",
         "showlegend": true,
         "showscale": false,
         "type": "choropleth",
         "z": [
          1,
          1,
          1,
          1,
          1
         ]
        },
        {
         "colorscale": [
          [
           0,
           "#EF553B"
          ],
          [
           1,
           "#EF553B"
          ]
         ],
         "geo": "geo",
         "hovertemplate": "Intermediate-region=Western Africa<br>Country or Area=%{location}<extra></extra>",
         "locationmode": "country names",
         "locations": [
          "Benin",
          "Burkina Faso",
          "Cabo Verde",
          "Ghana",
          "Guinea",
          "Guinea-Bissau",
          "Liberia",
          "Mali",
          "Mauritania",
          "Niger",
          "Nigeria",
          "Senegal",
          "Sierra Leone",
          "Togo"
         ],
         "name": "Western Africa",
         "showlegend": true,
         "showscale": false,
         "type": "choropleth",
         "z": [
          1,
          1,
          1,
          1,
          1,
          1,
          1,
          1,
          1,
          1,
          1,
          1,
          1,
          1
         ]
        },
        {
         "colorscale": [
          [
           0,
           "#00CC96"
          ],
          [
           1,
           "#00CC96"
          ]
         ],
         "geo": "geo",
         "hovertemplate": "Intermediate-region=Eastern Africa<br>Country or Area=%{location}<extra></extra>",
         "locationmode": "country names",
         "locations": [
          "Burundi",
          "Comoros",
          "Djibouti",
          "Eritrea",
          "Ethiopia",
          "Kenya",
          "Madagascar",
          "Malawi",
          "Mozambique",
          "Rwanda",
          "Somalia",
          "South Sudan",
          "Uganda",
          "Zambia",
          "Zimbabwe"
         ],
         "name": "Eastern Africa",
         "showlegend": true,
         "showscale": false,
         "type": "choropleth",
         "z": [
          1,
          1,
          1,
          1,
          1,
          1,
          1,
          1,
          1,
          1,
          1,
          1,
          1,
          1,
          1
         ]
        },
        {
         "colorscale": [
          [
           0,
           "#AB63FA"
          ],
          [
           1,
           "#AB63FA"
          ]
         ],
         "geo": "geo",
         "hovertemplate": "Intermediate-region=Southern Africa<br>Country or Area=%{location}<extra></extra>",
         "locationmode": "country names",
         "locations": [
          "Lesotho"
         ],
         "name": "Southern Africa",
         "showlegend": true,
         "showscale": false,
         "type": "choropleth",
         "z": [
          1
         ]
        },
        {
         "colorscale": [
          [
           0,
           "#FFA15A"
          ],
          [
           1,
           "#FFA15A"
          ]
         ],
         "geo": "geo",
         "hovertemplate": "Intermediate-region=Northern Africa<br>Country or Area=%{location}<extra></extra>",
         "locationmode": "country names",
         "locations": [
          "Sudan"
         ],
         "name": "Northern Africa",
         "showlegend": true,
         "showscale": false,
         "type": "choropleth",
         "z": [
          1
         ]
        }
       ],
       "layout": {
        "geo": {
         "center": {},
         "domain": {
          "x": [
           0,
           1
          ],
          "y": [
           0,
           1
          ]
         },
         "scope": "africa"
        },
        "legend": {
         "title": {
          "text": "Intermediate-region"
         },
         "tracegroupgap": 0
        },
        "template": {
         "data": {
          "bar": [
           {
            "error_x": {
             "color": "#2a3f5f"
            },
            "error_y": {
             "color": "#2a3f5f"
            },
            "marker": {
             "line": {
              "color": "#E5ECF6",
              "width": 0.5
             },
             "pattern": {
              "fillmode": "overlay",
              "size": 10,
              "solidity": 0.2
             }
            },
            "type": "bar"
           }
          ],
          "barpolar": [
           {
            "marker": {
             "line": {
              "color": "#E5ECF6",
              "width": 0.5
             },
             "pattern": {
              "fillmode": "overlay",
              "size": 10,
              "solidity": 0.2
             }
            },
            "type": "barpolar"
           }
          ],
          "carpet": [
           {
            "aaxis": {
             "endlinecolor": "#2a3f5f",
             "gridcolor": "white",
             "linecolor": "white",
             "minorgridcolor": "white",
             "startlinecolor": "#2a3f5f"
            },
            "baxis": {
             "endlinecolor": "#2a3f5f",
             "gridcolor": "white",
             "linecolor": "white",
             "minorgridcolor": "white",
             "startlinecolor": "#2a3f5f"
            },
            "type": "carpet"
           }
          ],
          "choropleth": [
           {
            "colorbar": {
             "outlinewidth": 0,
             "ticks": ""
            },
            "type": "choropleth"
           }
          ],
          "contour": [
           {
            "colorbar": {
             "outlinewidth": 0,
             "ticks": ""
            },
            "colorscale": [
             [
              0,
              "#0d0887"
             ],
             [
              0.1111111111111111,
              "#46039f"
             ],
             [
              0.2222222222222222,
              "#7201a8"
             ],
             [
              0.3333333333333333,
              "#9c179e"
             ],
             [
              0.4444444444444444,
              "#bd3786"
             ],
             [
              0.5555555555555556,
              "#d8576b"
             ],
             [
              0.6666666666666666,
              "#ed7953"
             ],
             [
              0.7777777777777778,
              "#fb9f3a"
             ],
             [
              0.8888888888888888,
              "#fdca26"
             ],
             [
              1,
              "#f0f921"
             ]
            ],
            "type": "contour"
           }
          ],
          "contourcarpet": [
           {
            "colorbar": {
             "outlinewidth": 0,
             "ticks": ""
            },
            "type": "contourcarpet"
           }
          ],
          "heatmap": [
           {
            "colorbar": {
             "outlinewidth": 0,
             "ticks": ""
            },
            "colorscale": [
             [
              0,
              "#0d0887"
             ],
             [
              0.1111111111111111,
              "#46039f"
             ],
             [
              0.2222222222222222,
              "#7201a8"
             ],
             [
              0.3333333333333333,
              "#9c179e"
             ],
             [
              0.4444444444444444,
              "#bd3786"
             ],
             [
              0.5555555555555556,
              "#d8576b"
             ],
             [
              0.6666666666666666,
              "#ed7953"
             ],
             [
              0.7777777777777778,
              "#fb9f3a"
             ],
             [
              0.8888888888888888,
              "#fdca26"
             ],
             [
              1,
              "#f0f921"
             ]
            ],
            "type": "heatmap"
           }
          ],
          "histogram": [
           {
            "marker": {
             "pattern": {
              "fillmode": "overlay",
              "size": 10,
              "solidity": 0.2
             }
            },
            "type": "histogram"
           }
          ],
          "histogram2d": [
           {
            "colorbar": {
             "outlinewidth": 0,
             "ticks": ""
            },
            "colorscale": [
             [
              0,
              "#0d0887"
             ],
             [
              0.1111111111111111,
              "#46039f"
             ],
             [
              0.2222222222222222,
              "#7201a8"
             ],
             [
              0.3333333333333333,
              "#9c179e"
             ],
             [
              0.4444444444444444,
              "#bd3786"
             ],
             [
              0.5555555555555556,
              "#d8576b"
             ],
             [
              0.6666666666666666,
              "#ed7953"
             ],
             [
              0.7777777777777778,
              "#fb9f3a"
             ],
             [
              0.8888888888888888,
              "#fdca26"
             ],
             [
              1,
              "#f0f921"
             ]
            ],
            "type": "histogram2d"
           }
          ],
          "histogram2dcontour": [
           {
            "colorbar": {
             "outlinewidth": 0,
             "ticks": ""
            },
            "colorscale": [
             [
              0,
              "#0d0887"
             ],
             [
              0.1111111111111111,
              "#46039f"
             ],
             [
              0.2222222222222222,
              "#7201a8"
             ],
             [
              0.3333333333333333,
              "#9c179e"
             ],
             [
              0.4444444444444444,
              "#bd3786"
             ],
             [
              0.5555555555555556,
              "#d8576b"
             ],
             [
              0.6666666666666666,
              "#ed7953"
             ],
             [
              0.7777777777777778,
              "#fb9f3a"
             ],
             [
              0.8888888888888888,
              "#fdca26"
             ],
             [
              1,
              "#f0f921"
             ]
            ],
            "type": "histogram2dcontour"
           }
          ],
          "mesh3d": [
           {
            "colorbar": {
             "outlinewidth": 0,
             "ticks": ""
            },
            "type": "mesh3d"
           }
          ],
          "parcoords": [
           {
            "line": {
             "colorbar": {
              "outlinewidth": 0,
              "ticks": ""
             }
            },
            "type": "parcoords"
           }
          ],
          "pie": [
           {
            "automargin": true,
            "type": "pie"
           }
          ],
          "scatter": [
           {
            "fillpattern": {
             "fillmode": "overlay",
             "size": 10,
             "solidity": 0.2
            },
            "type": "scatter"
           }
          ],
          "scatter3d": [
           {
            "line": {
             "colorbar": {
              "outlinewidth": 0,
              "ticks": ""
             }
            },
            "marker": {
             "colorbar": {
              "outlinewidth": 0,
              "ticks": ""
             }
            },
            "type": "scatter3d"
           }
          ],
          "scattercarpet": [
           {
            "marker": {
             "colorbar": {
              "outlinewidth": 0,
              "ticks": ""
             }
            },
            "type": "scattercarpet"
           }
          ],
          "scattergeo": [
           {
            "marker": {
             "colorbar": {
              "outlinewidth": 0,
              "ticks": ""
             }
            },
            "type": "scattergeo"
           }
          ],
          "scattergl": [
           {
            "marker": {
             "colorbar": {
              "outlinewidth": 0,
              "ticks": ""
             }
            },
            "type": "scattergl"
           }
          ],
          "scattermap": [
           {
            "marker": {
             "colorbar": {
              "outlinewidth": 0,
              "ticks": ""
             }
            },
            "type": "scattermap"
           }
          ],
          "scattermapbox": [
           {
            "marker": {
             "colorbar": {
              "outlinewidth": 0,
              "ticks": ""
             }
            },
            "type": "scattermapbox"
           }
          ],
          "scatterpolar": [
           {
            "marker": {
             "colorbar": {
              "outlinewidth": 0,
              "ticks": ""
             }
            },
            "type": "scatterpolar"
           }
          ],
          "scatterpolargl": [
           {
            "marker": {
             "colorbar": {
              "outlinewidth": 0,
              "ticks": ""
             }
            },
            "type": "scatterpolargl"
           }
          ],
          "scatterternary": [
           {
            "marker": {
             "colorbar": {
              "outlinewidth": 0,
              "ticks": ""
             }
            },
            "type": "scatterternary"
           }
          ],
          "surface": [
           {
            "colorbar": {
             "outlinewidth": 0,
             "ticks": ""
            },
            "colorscale": [
             [
              0,
              "#0d0887"
             ],
             [
              0.1111111111111111,
              "#46039f"
             ],
             [
              0.2222222222222222,
              "#7201a8"
             ],
             [
              0.3333333333333333,
              "#9c179e"
             ],
             [
              0.4444444444444444,
              "#bd3786"
             ],
             [
              0.5555555555555556,
              "#d8576b"
             ],
             [
              0.6666666666666666,
              "#ed7953"
             ],
             [
              0.7777777777777778,
              "#fb9f3a"
             ],
             [
              0.8888888888888888,
              "#fdca26"
             ],
             [
              1,
              "#f0f921"
             ]
            ],
            "type": "surface"
           }
          ],
          "table": [
           {
            "cells": {
             "fill": {
              "color": "#EBF0F8"
             },
             "line": {
              "color": "white"
             }
            },
            "header": {
             "fill": {
              "color": "#C8D4E3"
             },
             "line": {
              "color": "white"
             }
            },
            "type": "table"
           }
          ]
         },
         "layout": {
          "annotationdefaults": {
           "arrowcolor": "#2a3f5f",
           "arrowhead": 0,
           "arrowwidth": 1
          },
          "autotypenumbers": "strict",
          "coloraxis": {
           "colorbar": {
            "outlinewidth": 0,
            "ticks": ""
           }
          },
          "colorscale": {
           "diverging": [
            [
             0,
             "#8e0152"
            ],
            [
             0.1,
             "#c51b7d"
            ],
            [
             0.2,
             "#de77ae"
            ],
            [
             0.3,
             "#f1b6da"
            ],
            [
             0.4,
             "#fde0ef"
            ],
            [
             0.5,
             "#f7f7f7"
            ],
            [
             0.6,
             "#e6f5d0"
            ],
            [
             0.7,
             "#b8e186"
            ],
            [
             0.8,
             "#7fbc41"
            ],
            [
             0.9,
             "#4d9221"
            ],
            [
             1,
             "#276419"
            ]
           ],
           "sequential": [
            [
             0,
             "#0d0887"
            ],
            [
             0.1111111111111111,
             "#46039f"
            ],
            [
             0.2222222222222222,
             "#7201a8"
            ],
            [
             0.3333333333333333,
             "#9c179e"
            ],
            [
             0.4444444444444444,
             "#bd3786"
            ],
            [
             0.5555555555555556,
             "#d8576b"
            ],
            [
             0.6666666666666666,
             "#ed7953"
            ],
            [
             0.7777777777777778,
             "#fb9f3a"
            ],
            [
             0.8888888888888888,
             "#fdca26"
            ],
            [
             1,
             "#f0f921"
            ]
           ],
           "sequentialminus": [
            [
             0,
             "#0d0887"
            ],
            [
             0.1111111111111111,
             "#46039f"
            ],
            [
             0.2222222222222222,
             "#7201a8"
            ],
            [
             0.3333333333333333,
             "#9c179e"
            ],
            [
             0.4444444444444444,
             "#bd3786"
            ],
            [
             0.5555555555555556,
             "#d8576b"
            ],
            [
             0.6666666666666666,
             "#ed7953"
            ],
            [
             0.7777777777777778,
             "#fb9f3a"
            ],
            [
             0.8888888888888888,
             "#fdca26"
            ],
            [
             1,
             "#f0f921"
            ]
           ]
          },
          "colorway": [
           "#636efa",
           "#EF553B",
           "#00cc96",
           "#ab63fa",
           "#FFA15A",
           "#19d3f3",
           "#FF6692",
           "#B6E880",
           "#FF97FF",
           "#FECB52"
          ],
          "font": {
           "color": "#2a3f5f"
          },
          "geo": {
           "bgcolor": "white",
           "lakecolor": "white",
           "landcolor": "#E5ECF6",
           "showlakes": true,
           "showland": true,
           "subunitcolor": "white"
          },
          "hoverlabel": {
           "align": "left"
          },
          "hovermode": "closest",
          "mapbox": {
           "style": "light"
          },
          "paper_bgcolor": "white",
          "plot_bgcolor": "#E5ECF6",
          "polar": {
           "angularaxis": {
            "gridcolor": "white",
            "linecolor": "white",
            "ticks": ""
           },
           "bgcolor": "#E5ECF6",
           "radialaxis": {
            "gridcolor": "white",
            "linecolor": "white",
            "ticks": ""
           }
          },
          "scene": {
           "xaxis": {
            "backgroundcolor": "#E5ECF6",
            "gridcolor": "white",
            "gridwidth": 2,
            "linecolor": "white",
            "showbackground": true,
            "ticks": "",
            "zerolinecolor": "white"
           },
           "yaxis": {
            "backgroundcolor": "#E5ECF6",
            "gridcolor": "white",
            "gridwidth": 2,
            "linecolor": "white",
            "showbackground": true,
            "ticks": "",
            "zerolinecolor": "white"
           },
           "zaxis": {
            "backgroundcolor": "#E5ECF6",
            "gridcolor": "white",
            "gridwidth": 2,
            "linecolor": "white",
            "showbackground": true,
            "ticks": "",
            "zerolinecolor": "white"
           }
          },
          "shapedefaults": {
           "line": {
            "color": "#2a3f5f"
           }
          },
          "ternary": {
           "aaxis": {
            "gridcolor": "white",
            "linecolor": "white",
            "ticks": ""
           },
           "baxis": {
            "gridcolor": "white",
            "linecolor": "white",
            "ticks": ""
           },
           "bgcolor": "#E5ECF6",
           "caxis": {
            "gridcolor": "white",
            "linecolor": "white",
            "ticks": ""
           }
          },
          "title": {
           "x": 0.05
          },
          "xaxis": {
           "automargin": true,
           "gridcolor": "white",
           "linecolor": "white",
           "ticks": "",
           "title": {
            "standoff": 15
           },
           "zerolinecolor": "white",
           "zerolinewidth": 2
          },
          "yaxis": {
           "automargin": true,
           "gridcolor": "white",
           "linecolor": "white",
           "ticks": "",
           "title": {
            "standoff": 15
           },
           "zerolinecolor": "white",
           "zerolinewidth": 2
          }
         }
        },
        "title": {
         "text": "African countries by sub-region (only those included in the dataset)"
        }
       }
      }
     },
     "metadata": {},
     "output_type": "display_data"
    }
   ],
   "source": [
    "# Visualisation of countries by intermediate-region\n",
    "\n",
    "# Import the library\n",
    "from plotly import express as px\n",
    "\n",
    "# Prepare data\n",
    "region_wise_countries = cpia_africa[['Intermediate-region', 'Country or Area']].drop_duplicates()\n",
    "\n",
    "# Create the choropleth\n",
    "fig = px.choropleth(\n",
    "    region_wise_countries,\n",
    "    locations='Country or Area',\n",
    "    locationmode='country names',\n",
    "    color='Intermediate-region',  \n",
    "    color_discrete_sequence=px.colors.qualitative.Plotly,  \n",
    "    title='African countries by sub-region (only those included in the dataset)',\n",
    "    scope='africa'\n",
    ")\n",
    "\n",
    "fig.show()"
   ]
  },
  {
   "cell_type": "markdown",
   "metadata": {},
   "source": [
    "In the given dataset, there is only one country in each of the regions **Northern Africa** and **Southern Africa**, namely **Sudan** and **Lesotho** respectively."
   ]
  },
  {
   "cell_type": "code",
   "execution_count": 23,
   "metadata": {},
   "outputs": [
    {
     "data": {
      "image/png": "[encoded data removed]",
      "text/plain": [
       "<Figure size 640x480 with 1 Axes>"
      ]
     },
     "metadata": {},
     "output_type": "display_data"
    }
   ],
   "source": [
    "# Visualisation of the distribution of ratings across different regions\n",
    "cpia_africa.groupby('Intermediate-region')[ratings].mean().sort_values(by='Economic Management', ascending=False).plot(kind='bar')\n",
    "plt.ylabel('Rating')\n",
    "plt.xlabel('Regions')\n",
    "plt.title('Average cluster rating across different regions')\n",
    "plt.xticks(rotation=90)\n",
    "plt.legend(loc='center left', bbox_to_anchor=(1, 0.5))\n",
    "plt.show()"
   ]
  },
  {
   "cell_type": "markdown",
   "metadata": {},
   "source": [
    "**West Africa** and **Southern Africa** show a similar trend in all categories. They perform better than other regions in Africa. Despite being the only country considered in **Southern Africa**, **Lesotho** performs better than the average of the other regions. \n",
    "\n",
    "**Northern Africa** performs poorly compared to other regions in all categories. However, the fact that there is only one country in Northern Africa cannot be ignored. \n",
    "\n",
    "The **Public Sector Management and Institutions** cluster is consistently weak in all regions."
   ]
  },
  {
   "cell_type": "markdown",
   "metadata": {},
   "source": [
    "**Question 6: Which countries perform better and which worse?**\n",
    "**Which are the countries with the lowest and highest recorded scores and the years in which the scores were recorded?**"
   ]
  },
  {
   "cell_type": "code",
   "execution_count": 24,
   "metadata": {},
   "outputs": [
    {
     "data": {
      "image/png": "[encoded data removed]",
      "text/plain": [
       "<Figure size 1300x1000 with 1 Axes>"
      ]
     },
     "metadata": {},
     "output_type": "display_data"
    }
   ],
   "source": [
    "# Visualisation of average cluster scores by country\n",
    "cpia_africa_country = cpia_africa.groupby('Country or Area')[clusters].mean()\n",
    "\n",
    "fig, ax = plt.subplots(figsize=(13, 10))\n",
    "cpia_africa_country.sort_values(by='Economic Management', ascending=False).plot.barh(stacked=True, ax=ax)\n",
    "ax.legend(loc='center left', bbox_to_anchor=(1, 0.5))\n",
    "ax.set_title('Average Cluster Scores by Country')\n",
    "plt.show()"
   ]
  },
  {
   "cell_type": "markdown",
   "metadata": {},
   "source": [
    "On average, **Cabo Verde** and **Rwanda** stand out as the top performers across the clusters. In addition to these two, **Uganda**, **Kenya**, **Senegal**, and **Ghana** also show relatively strong performance.\n",
    "\n",
    "On the other end of the spectrum, **South Sudan**, **Eritrea**, and **Somalia** rank among the lowest-performing countries."
   ]
  },
  {
   "cell_type": "code",
   "execution_count": 25,
   "metadata": {},
   "outputs": [
    {
     "data": {
      "text/html": [
       "<div>\n",
       "<style scoped>\n",
       "    .dataframe tbody tr th:only-of-type {\n",
       "        vertical-align: middle;\n",
       "    }\n",
       "\n",
       "    .dataframe tbody tr th {\n",
       "        vertical-align: top;\n",
       "    }\n",
       "\n",
       "    .dataframe thead th {\n",
       "        text-align: right;\n",
       "    }\n",
       "</style>\n",
       "<table border=\"1\" class=\"dataframe\">\n",
       "  <thead>\n",
       "    <tr style=\"text-align: right;\">\n",
       "      <th></th>\n",
       "      <th>Country or Area</th>\n",
       "      <th>Country Code</th>\n",
       "      <th>Sub-region</th>\n",
       "      <th>Intermediate-region</th>\n",
       "      <th>Year</th>\n",
       "      <th>Economic Management</th>\n",
       "      <th>Structural Policies</th>\n",
       "      <th>Policies for Social Inclusion and Equity</th>\n",
       "      <th>Public Sector Management and Institutions</th>\n",
       "      <th>Overall CPIA</th>\n",
       "    </tr>\n",
       "  </thead>\n",
       "  <tbody>\n",
       "    <tr>\n",
       "      <th>199</th>\n",
       "      <td>Eritrea</td>\n",
       "      <td>ERI</td>\n",
       "      <td>Sub-Saharan Africa</td>\n",
       "      <td>Eastern Africa</td>\n",
       "      <td>2023</td>\n",
       "      <td>1.500000</td>\n",
       "      <td>1.166667</td>\n",
       "      <td>2.6</td>\n",
       "      <td>1.5</td>\n",
       "      <td>1.691667</td>\n",
       "    </tr>\n",
       "    <tr>\n",
       "      <th>543</th>\n",
       "      <td>South Sudan</td>\n",
       "      <td>SSD</td>\n",
       "      <td>Sub-Saharan Africa</td>\n",
       "      <td>Eastern Africa</td>\n",
       "      <td>2023</td>\n",
       "      <td>1.666667</td>\n",
       "      <td>2.000000</td>\n",
       "      <td>1.7</td>\n",
       "      <td>1.3</td>\n",
       "      <td>1.666667</td>\n",
       "    </tr>\n",
       "    <tr>\n",
       "      <th>544</th>\n",
       "      <td>South Sudan</td>\n",
       "      <td>SSD</td>\n",
       "      <td>Sub-Saharan Africa</td>\n",
       "      <td>Eastern Africa</td>\n",
       "      <td>2022</td>\n",
       "      <td>1.500000</td>\n",
       "      <td>2.000000</td>\n",
       "      <td>1.6</td>\n",
       "      <td>1.4</td>\n",
       "      <td>1.625000</td>\n",
       "    </tr>\n",
       "    <tr>\n",
       "      <th>545</th>\n",
       "      <td>South Sudan</td>\n",
       "      <td>SSD</td>\n",
       "      <td>Sub-Saharan Africa</td>\n",
       "      <td>Eastern Africa</td>\n",
       "      <td>2021</td>\n",
       "      <td>1.500000</td>\n",
       "      <td>2.000000</td>\n",
       "      <td>1.5</td>\n",
       "      <td>1.4</td>\n",
       "      <td>1.600000</td>\n",
       "    </tr>\n",
       "    <tr>\n",
       "      <th>546</th>\n",
       "      <td>South Sudan</td>\n",
       "      <td>SSD</td>\n",
       "      <td>Sub-Saharan Africa</td>\n",
       "      <td>Eastern Africa</td>\n",
       "      <td>2020</td>\n",
       "      <td>1.166667</td>\n",
       "      <td>1.833333</td>\n",
       "      <td>1.5</td>\n",
       "      <td>1.4</td>\n",
       "      <td>1.475000</td>\n",
       "    </tr>\n",
       "    <tr>\n",
       "      <th>547</th>\n",
       "      <td>South Sudan</td>\n",
       "      <td>SSD</td>\n",
       "      <td>Sub-Saharan Africa</td>\n",
       "      <td>Eastern Africa</td>\n",
       "      <td>2019</td>\n",
       "      <td>1.000000</td>\n",
       "      <td>1.833333</td>\n",
       "      <td>1.5</td>\n",
       "      <td>1.4</td>\n",
       "      <td>1.433333</td>\n",
       "    </tr>\n",
       "    <tr>\n",
       "      <th>548</th>\n",
       "      <td>South Sudan</td>\n",
       "      <td>SSD</td>\n",
       "      <td>Sub-Saharan Africa</td>\n",
       "      <td>Eastern Africa</td>\n",
       "      <td>2018</td>\n",
       "      <td>1.000000</td>\n",
       "      <td>2.000000</td>\n",
       "      <td>1.5</td>\n",
       "      <td>1.4</td>\n",
       "      <td>1.475000</td>\n",
       "    </tr>\n",
       "    <tr>\n",
       "      <th>549</th>\n",
       "      <td>South Sudan</td>\n",
       "      <td>SSD</td>\n",
       "      <td>Sub-Saharan Africa</td>\n",
       "      <td>Eastern Africa</td>\n",
       "      <td>2017</td>\n",
       "      <td>1.000000</td>\n",
       "      <td>2.000000</td>\n",
       "      <td>1.7</td>\n",
       "      <td>1.4</td>\n",
       "      <td>1.525000</td>\n",
       "    </tr>\n",
       "    <tr>\n",
       "      <th>550</th>\n",
       "      <td>South Sudan</td>\n",
       "      <td>SSD</td>\n",
       "      <td>Sub-Saharan Africa</td>\n",
       "      <td>Eastern Africa</td>\n",
       "      <td>2016</td>\n",
       "      <td>1.000000</td>\n",
       "      <td>2.000000</td>\n",
       "      <td>1.8</td>\n",
       "      <td>1.5</td>\n",
       "      <td>1.575000</td>\n",
       "    </tr>\n",
       "    <tr>\n",
       "      <th>646</th>\n",
       "      <td>Zimbabwe</td>\n",
       "      <td>ZWE</td>\n",
       "      <td>Sub-Saharan Africa</td>\n",
       "      <td>Eastern Africa</td>\n",
       "      <td>2008</td>\n",
       "      <td>1.000000</td>\n",
       "      <td>1.500000</td>\n",
       "      <td>1.5</td>\n",
       "      <td>1.6</td>\n",
       "      <td>1.400000</td>\n",
       "    </tr>\n",
       "    <tr>\n",
       "      <th>647</th>\n",
       "      <td>Zimbabwe</td>\n",
       "      <td>ZWE</td>\n",
       "      <td>Sub-Saharan Africa</td>\n",
       "      <td>Eastern Africa</td>\n",
       "      <td>2007</td>\n",
       "      <td>1.000000</td>\n",
       "      <td>2.000000</td>\n",
       "      <td>1.8</td>\n",
       "      <td>1.8</td>\n",
       "      <td>1.650000</td>\n",
       "    </tr>\n",
       "  </tbody>\n",
       "</table>\n",
       "</div>"
      ],
      "text/plain": [
       "    Country or Area Country Code          Sub-region Intermediate-region  \\\n",
       "199         Eritrea          ERI  Sub-Saharan Africa      Eastern Africa   \n",
       "543     South Sudan          SSD  Sub-Saharan Africa      Eastern Africa   \n",
       "544     South Sudan          SSD  Sub-Saharan Africa      Eastern Africa   \n",
       "545     South Sudan          SSD  Sub-Saharan Africa      Eastern Africa   \n",
       "546     South Sudan          SSD  Sub-Saharan Africa      Eastern Africa   \n",
       "547     South Sudan          SSD  Sub-Saharan Africa      Eastern Africa   \n",
       "548     South Sudan          SSD  Sub-Saharan Africa      Eastern Africa   \n",
       "549     South Sudan          SSD  Sub-Saharan Africa      Eastern Africa   \n",
       "550     South Sudan          SSD  Sub-Saharan Africa      Eastern Africa   \n",
       "646        Zimbabwe          ZWE  Sub-Saharan Africa      Eastern Africa   \n",
       "647        Zimbabwe          ZWE  Sub-Saharan Africa      Eastern Africa   \n",
       "\n",
       "     Year  Economic Management  Structural Policies  \\\n",
       "199  2023             1.500000             1.166667   \n",
       "543  2023             1.666667             2.000000   \n",
       "544  2022             1.500000             2.000000   \n",
       "545  2021             1.500000             2.000000   \n",
       "546  2020             1.166667             1.833333   \n",
       "547  2019             1.000000             1.833333   \n",
       "548  2018             1.000000             2.000000   \n",
       "549  2017             1.000000             2.000000   \n",
       "550  2016             1.000000             2.000000   \n",
       "646  2008             1.000000             1.500000   \n",
       "647  2007             1.000000             2.000000   \n",
       "\n",
       "     Policies for Social Inclusion and Equity  \\\n",
       "199                                       2.6   \n",
       "543                                       1.7   \n",
       "544                                       1.6   \n",
       "545                                       1.5   \n",
       "546                                       1.5   \n",
       "547                                       1.5   \n",
       "548                                       1.5   \n",
       "549                                       1.7   \n",
       "550                                       1.8   \n",
       "646                                       1.5   \n",
       "647                                       1.8   \n",
       "\n",
       "     Public Sector Management and Institutions  Overall CPIA  \n",
       "199                                        1.5      1.691667  \n",
       "543                                        1.3      1.666667  \n",
       "544                                        1.4      1.625000  \n",
       "545                                        1.4      1.600000  \n",
       "546                                        1.4      1.475000  \n",
       "547                                        1.4      1.433333  \n",
       "548                                        1.4      1.475000  \n",
       "549                                        1.4      1.525000  \n",
       "550                                        1.5      1.575000  \n",
       "646                                        1.6      1.400000  \n",
       "647                                        1.8      1.650000  "
      ]
     },
     "metadata": {},
     "output_type": "display_data"
    }
   ],
   "source": [
    "# Countries with lower Overall CPIA ratings\n",
    "\n",
    "# Calculate IQR and lower whisker\n",
    "q1 = cpia_africa['Overall CPIA'].quantile(0.25)\n",
    "q3 = cpia_africa['Overall CPIA'].quantile(0.75)\n",
    "iqr = q3-q1\n",
    "lower_whisker = q1 - 1.5*iqr\n",
    "\n",
    "# Filter countries with Overall CPIA rating below the lower whisker\n",
    "display(cpia_africa[cpia_africa['Overall CPIA']<lower_whisker])"
   ]
  },
  {
   "cell_type": "code",
   "execution_count": 26,
   "metadata": {},
   "outputs": [
    {
     "data": {
      "text/html": [
       "<div>\n",
       "<style scoped>\n",
       "    .dataframe tbody tr th:only-of-type {\n",
       "        vertical-align: middle;\n",
       "    }\n",
       "\n",
       "    .dataframe tbody tr th {\n",
       "        vertical-align: top;\n",
       "    }\n",
       "\n",
       "    .dataframe thead th {\n",
       "        text-align: right;\n",
       "    }\n",
       "</style>\n",
       "<table border=\"1\" class=\"dataframe\">\n",
       "  <thead>\n",
       "    <tr style=\"text-align: right;\">\n",
       "      <th></th>\n",
       "      <th>Country or Area</th>\n",
       "      <th>Country Code</th>\n",
       "      <th>Sub-region</th>\n",
       "      <th>Intermediate-region</th>\n",
       "      <th>Year</th>\n",
       "      <th>Economic Management</th>\n",
       "      <th>Structural Policies</th>\n",
       "      <th>Policies for Social Inclusion and Equity</th>\n",
       "      <th>Public Sector Management and Institutions</th>\n",
       "      <th>Overall CPIA</th>\n",
       "    </tr>\n",
       "  </thead>\n",
       "  <tbody>\n",
       "    <tr>\n",
       "      <th>646</th>\n",
       "      <td>Zimbabwe</td>\n",
       "      <td>ZWE</td>\n",
       "      <td>Sub-Saharan Africa</td>\n",
       "      <td>Eastern Africa</td>\n",
       "      <td>2008</td>\n",
       "      <td>1.0</td>\n",
       "      <td>1.5</td>\n",
       "      <td>1.5</td>\n",
       "      <td>1.6</td>\n",
       "      <td>1.4</td>\n",
       "    </tr>\n",
       "  </tbody>\n",
       "</table>\n",
       "</div>"
      ],
      "text/plain": [
       "    Country or Area Country Code          Sub-region Intermediate-region  \\\n",
       "646        Zimbabwe          ZWE  Sub-Saharan Africa      Eastern Africa   \n",
       "\n",
       "     Year  Economic Management  Structural Policies  \\\n",
       "646  2008                  1.0                  1.5   \n",
       "\n",
       "     Policies for Social Inclusion and Equity  \\\n",
       "646                                       1.5   \n",
       "\n",
       "     Public Sector Management and Institutions  Overall CPIA  \n",
       "646                                        1.6           1.4  "
      ]
     },
     "execution_count": 26,
     "metadata": {},
     "output_type": "execute_result"
    }
   ],
   "source": [
    "# Country with lowest Overall CPIA rating\n",
    "cpia_africa[cpia_africa['Overall CPIA'] == cpia_africa['Overall CPIA'].min()]"
   ]
  },
  {
   "cell_type": "markdown",
   "metadata": {},
   "source": [
    "**Zimbabwe** recorded the lowest CPIA rating of 1.4 in 2008. **South Sudan** has consistently reported an overall rating in the range of 1.4 to 1.6 from 2016 to 2023."
   ]
  },
  {
   "cell_type": "code",
   "execution_count": 27,
   "metadata": {},
   "outputs": [
    {
     "name": "stdout",
     "output_type": "stream",
     "text": [
      "The upper whisker correspondes to 4.597916666666666\n"
     ]
    },
    {
     "data": {
      "text/html": [
       "<div>\n",
       "<style scoped>\n",
       "    .dataframe tbody tr th:only-of-type {\n",
       "        vertical-align: middle;\n",
       "    }\n",
       "\n",
       "    .dataframe tbody tr th {\n",
       "        vertical-align: top;\n",
       "    }\n",
       "\n",
       "    .dataframe thead th {\n",
       "        text-align: right;\n",
       "    }\n",
       "</style>\n",
       "<table border=\"1\" class=\"dataframe\">\n",
       "  <thead>\n",
       "    <tr style=\"text-align: right;\">\n",
       "      <th></th>\n",
       "      <th>Country or Area</th>\n",
       "      <th>Country Code</th>\n",
       "      <th>Sub-region</th>\n",
       "      <th>Intermediate-region</th>\n",
       "      <th>Year</th>\n",
       "      <th>Economic Management</th>\n",
       "      <th>Structural Policies</th>\n",
       "      <th>Policies for Social Inclusion and Equity</th>\n",
       "      <th>Public Sector Management and Institutions</th>\n",
       "      <th>Overall CPIA</th>\n",
       "    </tr>\n",
       "  </thead>\n",
       "  <tbody>\n",
       "  </tbody>\n",
       "</table>\n",
       "</div>"
      ],
      "text/plain": [
       "Empty DataFrame\n",
       "Columns: [Country or Area, Country Code, Sub-region, Intermediate-region, Year, Economic Management, Structural Policies, Policies for Social Inclusion and Equity, Public Sector Management and Institutions, Overall CPIA]\n",
       "Index: []"
      ]
     },
     "metadata": {},
     "output_type": "display_data"
    }
   ],
   "source": [
    "# Country with highest Overall CPIA rating\n",
    "\n",
    "# Calculate upper whisker\n",
    "upper_whisker = q3 + 1.5*iqr\n",
    "print(f'The upper whisker correspondes to {upper_whisker}')\n",
    "\n",
    "# Filter countries with Overall CPIA rating above the upper whisker\n",
    "display(cpia_africa[cpia_africa['Overall CPIA'] > upper_whisker]) "
   ]
  },
  {
   "cell_type": "markdown",
   "metadata": {},
   "source": [
    "No country recorded a CPIA rating higher than 4.6."
   ]
  },
  {
   "cell_type": "code",
   "execution_count": 28,
   "metadata": {},
   "outputs": [
    {
     "data": {
      "text/html": [
       "<div>\n",
       "<style scoped>\n",
       "    .dataframe tbody tr th:only-of-type {\n",
       "        vertical-align: middle;\n",
       "    }\n",
       "\n",
       "    .dataframe tbody tr th {\n",
       "        vertical-align: top;\n",
       "    }\n",
       "\n",
       "    .dataframe thead th {\n",
       "        text-align: right;\n",
       "    }\n",
       "</style>\n",
       "<table border=\"1\" class=\"dataframe\">\n",
       "  <thead>\n",
       "    <tr style=\"text-align: right;\">\n",
       "      <th></th>\n",
       "      <th>Country or Area</th>\n",
       "      <th>Country Code</th>\n",
       "      <th>Sub-region</th>\n",
       "      <th>Intermediate-region</th>\n",
       "      <th>Year</th>\n",
       "      <th>Economic Management</th>\n",
       "      <th>Structural Policies</th>\n",
       "      <th>Policies for Social Inclusion and Equity</th>\n",
       "      <th>Public Sector Management and Institutions</th>\n",
       "      <th>Overall CPIA</th>\n",
       "    </tr>\n",
       "  </thead>\n",
       "  <tbody>\n",
       "    <tr>\n",
       "      <th>82</th>\n",
       "      <td>Cabo Verde</td>\n",
       "      <td>CPV</td>\n",
       "      <td>Sub-Saharan Africa</td>\n",
       "      <td>Western Africa</td>\n",
       "      <td>2007</td>\n",
       "      <td>4.500000</td>\n",
       "      <td>3.833333</td>\n",
       "      <td>4.3</td>\n",
       "      <td>4.0</td>\n",
       "      <td>4.158333</td>\n",
       "    </tr>\n",
       "    <tr>\n",
       "      <th>80</th>\n",
       "      <td>Cabo Verde</td>\n",
       "      <td>CPV</td>\n",
       "      <td>Sub-Saharan Africa</td>\n",
       "      <td>Western Africa</td>\n",
       "      <td>2009</td>\n",
       "      <td>4.500000</td>\n",
       "      <td>3.833333</td>\n",
       "      <td>4.3</td>\n",
       "      <td>4.0</td>\n",
       "      <td>4.158333</td>\n",
       "    </tr>\n",
       "    <tr>\n",
       "      <th>81</th>\n",
       "      <td>Cabo Verde</td>\n",
       "      <td>CPV</td>\n",
       "      <td>Sub-Saharan Africa</td>\n",
       "      <td>Western Africa</td>\n",
       "      <td>2008</td>\n",
       "      <td>4.500000</td>\n",
       "      <td>3.800000</td>\n",
       "      <td>4.3</td>\n",
       "      <td>4.0</td>\n",
       "      <td>4.150000</td>\n",
       "    </tr>\n",
       "    <tr>\n",
       "      <th>480</th>\n",
       "      <td>Rwanda</td>\n",
       "      <td>RWA</td>\n",
       "      <td>Sub-Saharan Africa</td>\n",
       "      <td>Eastern Africa</td>\n",
       "      <td>2023</td>\n",
       "      <td>4.000000</td>\n",
       "      <td>4.166667</td>\n",
       "      <td>4.4</td>\n",
       "      <td>3.9</td>\n",
       "      <td>4.116667</td>\n",
       "    </tr>\n",
       "    <tr>\n",
       "      <th>79</th>\n",
       "      <td>Cabo Verde</td>\n",
       "      <td>CPV</td>\n",
       "      <td>Sub-Saharan Africa</td>\n",
       "      <td>Western Africa</td>\n",
       "      <td>2010</td>\n",
       "      <td>4.333333</td>\n",
       "      <td>3.833333</td>\n",
       "      <td>4.3</td>\n",
       "      <td>4.0</td>\n",
       "      <td>4.116667</td>\n",
       "    </tr>\n",
       "    <tr>\n",
       "      <th>84</th>\n",
       "      <td>Cabo Verde</td>\n",
       "      <td>CPV</td>\n",
       "      <td>Sub-Saharan Africa</td>\n",
       "      <td>Western Africa</td>\n",
       "      <td>2005</td>\n",
       "      <td>4.166667</td>\n",
       "      <td>4.000000</td>\n",
       "      <td>4.3</td>\n",
       "      <td>3.9</td>\n",
       "      <td>4.091667</td>\n",
       "    </tr>\n",
       "    <tr>\n",
       "      <th>83</th>\n",
       "      <td>Cabo Verde</td>\n",
       "      <td>CPV</td>\n",
       "      <td>Sub-Saharan Africa</td>\n",
       "      <td>Western Africa</td>\n",
       "      <td>2006</td>\n",
       "      <td>4.333333</td>\n",
       "      <td>3.833333</td>\n",
       "      <td>4.3</td>\n",
       "      <td>3.9</td>\n",
       "      <td>4.091667</td>\n",
       "    </tr>\n",
       "    <tr>\n",
       "      <th>481</th>\n",
       "      <td>Rwanda</td>\n",
       "      <td>RWA</td>\n",
       "      <td>Sub-Saharan Africa</td>\n",
       "      <td>Eastern Africa</td>\n",
       "      <td>2022</td>\n",
       "      <td>4.000000</td>\n",
       "      <td>4.166667</td>\n",
       "      <td>4.3</td>\n",
       "      <td>3.8</td>\n",
       "      <td>4.066667</td>\n",
       "    </tr>\n",
       "    <tr>\n",
       "      <th>482</th>\n",
       "      <td>Rwanda</td>\n",
       "      <td>RWA</td>\n",
       "      <td>Sub-Saharan Africa</td>\n",
       "      <td>Eastern Africa</td>\n",
       "      <td>2021</td>\n",
       "      <td>4.000000</td>\n",
       "      <td>4.166667</td>\n",
       "      <td>4.3</td>\n",
       "      <td>3.8</td>\n",
       "      <td>4.066667</td>\n",
       "    </tr>\n",
       "    <tr>\n",
       "      <th>483</th>\n",
       "      <td>Rwanda</td>\n",
       "      <td>RWA</td>\n",
       "      <td>Sub-Saharan Africa</td>\n",
       "      <td>Eastern Africa</td>\n",
       "      <td>2020</td>\n",
       "      <td>4.000000</td>\n",
       "      <td>4.166667</td>\n",
       "      <td>4.3</td>\n",
       "      <td>3.8</td>\n",
       "      <td>4.066667</td>\n",
       "    </tr>\n",
       "    <tr>\n",
       "      <th>484</th>\n",
       "      <td>Rwanda</td>\n",
       "      <td>RWA</td>\n",
       "      <td>Sub-Saharan Africa</td>\n",
       "      <td>Eastern Africa</td>\n",
       "      <td>2019</td>\n",
       "      <td>4.000000</td>\n",
       "      <td>4.166667</td>\n",
       "      <td>4.2</td>\n",
       "      <td>3.8</td>\n",
       "      <td>4.041667</td>\n",
       "    </tr>\n",
       "    <tr>\n",
       "      <th>485</th>\n",
       "      <td>Rwanda</td>\n",
       "      <td>RWA</td>\n",
       "      <td>Sub-Saharan Africa</td>\n",
       "      <td>Eastern Africa</td>\n",
       "      <td>2018</td>\n",
       "      <td>4.000000</td>\n",
       "      <td>4.166667</td>\n",
       "      <td>4.2</td>\n",
       "      <td>3.8</td>\n",
       "      <td>4.041667</td>\n",
       "    </tr>\n",
       "    <tr>\n",
       "      <th>486</th>\n",
       "      <td>Rwanda</td>\n",
       "      <td>RWA</td>\n",
       "      <td>Sub-Saharan Africa</td>\n",
       "      <td>Eastern Africa</td>\n",
       "      <td>2017</td>\n",
       "      <td>4.000000</td>\n",
       "      <td>4.166667</td>\n",
       "      <td>4.3</td>\n",
       "      <td>3.7</td>\n",
       "      <td>4.041667</td>\n",
       "    </tr>\n",
       "    <tr>\n",
       "      <th>487</th>\n",
       "      <td>Rwanda</td>\n",
       "      <td>RWA</td>\n",
       "      <td>Sub-Saharan Africa</td>\n",
       "      <td>Eastern Africa</td>\n",
       "      <td>2016</td>\n",
       "      <td>4.000000</td>\n",
       "      <td>4.166667</td>\n",
       "      <td>4.3</td>\n",
       "      <td>3.7</td>\n",
       "      <td>4.041667</td>\n",
       "    </tr>\n",
       "    <tr>\n",
       "      <th>488</th>\n",
       "      <td>Rwanda</td>\n",
       "      <td>RWA</td>\n",
       "      <td>Sub-Saharan Africa</td>\n",
       "      <td>Eastern Africa</td>\n",
       "      <td>2015</td>\n",
       "      <td>4.000000</td>\n",
       "      <td>4.166667</td>\n",
       "      <td>4.3</td>\n",
       "      <td>3.7</td>\n",
       "      <td>4.041667</td>\n",
       "    </tr>\n",
       "  </tbody>\n",
       "</table>\n",
       "</div>"
      ],
      "text/plain": [
       "    Country or Area Country Code          Sub-region Intermediate-region  \\\n",
       "82       Cabo Verde          CPV  Sub-Saharan Africa      Western Africa   \n",
       "80       Cabo Verde          CPV  Sub-Saharan Africa      Western Africa   \n",
       "81       Cabo Verde          CPV  Sub-Saharan Africa      Western Africa   \n",
       "480          Rwanda          RWA  Sub-Saharan Africa      Eastern Africa   \n",
       "79       Cabo Verde          CPV  Sub-Saharan Africa      Western Africa   \n",
       "84       Cabo Verde          CPV  Sub-Saharan Africa      Western Africa   \n",
       "83       Cabo Verde          CPV  Sub-Saharan Africa      Western Africa   \n",
       "481          Rwanda          RWA  Sub-Saharan Africa      Eastern Africa   \n",
       "482          Rwanda          RWA  Sub-Saharan Africa      Eastern Africa   \n",
       "483          Rwanda          RWA  Sub-Saharan Africa      Eastern Africa   \n",
       "484          Rwanda          RWA  Sub-Saharan Africa      Eastern Africa   \n",
       "485          Rwanda          RWA  Sub-Saharan Africa      Eastern Africa   \n",
       "486          Rwanda          RWA  Sub-Saharan Africa      Eastern Africa   \n",
       "487          Rwanda          RWA  Sub-Saharan Africa      Eastern Africa   \n",
       "488          Rwanda          RWA  Sub-Saharan Africa      Eastern Africa   \n",
       "\n",
       "     Year  Economic Management  Structural Policies  \\\n",
       "82   2007             4.500000             3.833333   \n",
       "80   2009             4.500000             3.833333   \n",
       "81   2008             4.500000             3.800000   \n",
       "480  2023             4.000000             4.166667   \n",
       "79   2010             4.333333             3.833333   \n",
       "84   2005             4.166667             4.000000   \n",
       "83   2006             4.333333             3.833333   \n",
       "481  2022             4.000000             4.166667   \n",
       "482  2021             4.000000             4.166667   \n",
       "483  2020             4.000000             4.166667   \n",
       "484  2019             4.000000             4.166667   \n",
       "485  2018             4.000000             4.166667   \n",
       "486  2017             4.000000             4.166667   \n",
       "487  2016             4.000000             4.166667   \n",
       "488  2015             4.000000             4.166667   \n",
       "\n",
       "     Policies for Social Inclusion and Equity  \\\n",
       "82                                        4.3   \n",
       "80                                        4.3   \n",
       "81                                        4.3   \n",
       "480                                       4.4   \n",
       "79                                        4.3   \n",
       "84                                        4.3   \n",
       "83                                        4.3   \n",
       "481                                       4.3   \n",
       "482                                       4.3   \n",
       "483                                       4.3   \n",
       "484                                       4.2   \n",
       "485                                       4.2   \n",
       "486                                       4.3   \n",
       "487                                       4.3   \n",
       "488                                       4.3   \n",
       "\n",
       "     Public Sector Management and Institutions  Overall CPIA  \n",
       "82                                         4.0      4.158333  \n",
       "80                                         4.0      4.158333  \n",
       "81                                         4.0      4.150000  \n",
       "480                                        3.9      4.116667  \n",
       "79                                         4.0      4.116667  \n",
       "84                                         3.9      4.091667  \n",
       "83                                         3.9      4.091667  \n",
       "481                                        3.8      4.066667  \n",
       "482                                        3.8      4.066667  \n",
       "483                                        3.8      4.066667  \n",
       "484                                        3.8      4.041667  \n",
       "485                                        3.8      4.041667  \n",
       "486                                        3.7      4.041667  \n",
       "487                                        3.7      4.041667  \n",
       "488                                        3.7      4.041667  "
      ]
     },
     "metadata": {},
     "output_type": "display_data"
    }
   ],
   "source": [
    "# Top performing countries\n",
    "display(cpia_africa.sort_values(by='Overall CPIA', ascending=False).head(15))"
   ]
  },
  {
   "cell_type": "markdown",
   "metadata": {},
   "source": [
    "As noted earlier, **Cabo Verde** and **Rwanda** have consistently outperformed other countries over the years."
   ]
  },
  {
   "cell_type": "markdown",
   "metadata": {},
   "source": [
    "3. **Trends in CPIA Ratings Over the Years**"
   ]
  },
  {
   "cell_type": "markdown",
   "metadata": {},
   "source": [
    "**Question 7: How has the Overall CPIA rating of African countries changed over the years?**"
   ]
  },
  {
   "cell_type": "code",
   "execution_count": 29,
   "metadata": {},
   "outputs": [
    {
     "data": {
      "image/png": "[encoded data removed]",
      "text/plain": [
       "<Figure size 640x480 with 1 Axes>"
      ]
     },
     "metadata": {},
     "output_type": "display_data"
    }
   ],
   "source": [
    "# Visualisation of the average trend in Africa over the years\n",
    "cpia_africa_year = cpia_africa.groupby(['Year'])['Overall CPIA'].mean()\n",
    "years = cpia_africa_year.index\n",
    "cpia_africa_year.plot()\n",
    "plt.title(\"Overall CPIA rating over the years\")\n",
    "plt.ylabel(\"Average CPIA Score\")\n",
    "plt.xticks(ticks=years, rotation=45)\n",
    "plt.ylim([2,3.75])\n",
    "plt.show()\n",
    "plt.show()"
   ]
  },
  {
   "cell_type": "markdown",
   "metadata": {},
   "source": [
    "From 2005 to 2011, there was a gradual increase in the average CPIA score across African countries, peaking in 2011, which marks the highest point in the observed period.\n",
    "\n",
    "Between 2012 and 2015, scores began to decline gradually, followed by a sharp drop in 2016 and 2017, with 2017 recording the lowest average CPIA score.\n",
    "\n",
    "From 2018 onward, the average score shows a slow but steady improvement up to 2023."
   ]
  },
  {
   "cell_type": "code",
   "execution_count": 30,
   "metadata": {},
   "outputs": [
    {
     "data": {
      "image/png": "[encoded data removed]",
      "text/plain": [
       "<Figure size 640x480 with 1 Axes>"
      ]
     },
     "metadata": {},
     "output_type": "display_data"
    }
   ],
   "source": [
    "# Visualisation of regional trends in Overall CPIA rating over the years\n",
    "cpia_africa_year_inter = pd.pivot_table(data=cpia_africa, index='Year', columns='Intermediate-region', values='Overall CPIA')\n",
    "cpia_africa_year_inter.plot()\n",
    "plt.title(\"Regional Overall CPIA rating over the years\")\n",
    "plt.ylabel(\"Average CPIA Score\")\n",
    "plt.xticks(ticks=years, rotation=45)\n",
    "plt.legend(loc='center left', bbox_to_anchor=(1, 0.5))\n",
    "plt.ylim([2,3.75])\n",
    "plt.show()"
   ]
  },
  {
   "cell_type": "markdown",
   "metadata": {},
   "source": [
    "While the overall trend in CPIA ratings across Africa tends to be more stable, regional patterns tend to fluctuate.\n",
    "\n",
    "**Central and West Africa**:\n",
    "These regions have experienced a gradual and steady increase in CPIA ratings over the years.\n",
    "\n",
    "**Southern and Eastern Africa**:\n",
    "In contrast, these regions show a gradual decline.\n",
    "\n",
    "**Northern Africa**:\n",
    "This region exhibits the most unstable trend, marked by drops and peaks, possibly reflecting inconsistent data coverage."
   ]
  },
  {
   "cell_type": "markdown",
   "metadata": {},
   "source": [
    "**Question 8: How has the average rating between clusters changed over the years?**"
   ]
  },
  {
   "cell_type": "code",
   "execution_count": 31,
   "metadata": {},
   "outputs": [
    {
     "data": {
      "image/png": "[encoded data removed]",
      "text/plain": [
       "<Figure size 640x480 with 1 Axes>"
      ]
     },
     "metadata": {},
     "output_type": "display_data"
    }
   ],
   "source": [
    "# Visualisation of trends in CPIA ratings across clusters\n",
    "cpia_africa_year_cluster = cpia_africa.groupby('Year')[ratings].mean()\n",
    "\n",
    "cpia_africa_year_cluster.plot()\n",
    "plt.title(\"Trends in CPIA ratings across clusters\")\n",
    "plt.ylabel(\"Average CPIA Score\")\n",
    "plt.xticks(ticks=years, rotation=45)\n",
    "plt.legend(loc='center left', bbox_to_anchor=(1, 0.5))\n",
    "plt.ylim([2, 4])\n",
    "plt.show()"
   ]
  },
  {
   "cell_type": "markdown",
   "metadata": {},
   "source": [
    "The **Economic Management** cluster exhibits the highest variability in average ratings over the years.\n",
    "\n",
    "The **Public Sector Management and Institutions** cluster has consistently underperformed compared to other clusters.\n",
    "\n",
    "The **Policies for Social Inclusion and Equity** cluster shows a gradual and encouraging improvement, suggesting positive improvements in areas such as gender equality, social protection, and inclusive development. In contrast, all other clusters have experienced a gradual decline in their average ratings."
   ]
  },
  {
   "cell_type": "markdown",
   "metadata": {},
   "source": [
    "**Question 9: How has the average rating between clusters in the top performing countries changed over the years?**"
   ]
  },
  {
   "cell_type": "code",
   "execution_count": 33,
   "metadata": {},
   "outputs": [
    {
     "data": {
      "image/png": "[encoded data removed]",
      "text/plain": [
       "<Figure size 1000x500 with 2 Axes>"
      ]
     },
     "metadata": {},
     "output_type": "display_data"
    }
   ],
   "source": [
    "# Visualisation of trends in the CPIA ratings of the clusters in the top performing countries \n",
    "\n",
    "# List of top performing countries \n",
    "top_performing_countries = ['Cabo Verde', 'Rwanda']\n",
    "\n",
    "# Creating the plot\n",
    "fig, axs = plt.subplots(1, 2, figsize=(10,5), sharey=True, sharex=True)\n",
    "for ax, country in zip(axs.ravel(), top_performing_countries):\n",
    "    top_country = cpia_africa[cpia_africa['Country or Area']==country]\n",
    "    top_country.plot(x='Year', y=ratings, ax=ax)\n",
    "    ax.set_title(f'CPIA Rating over the years: {country}')\n",
    "    ax.set_ylabel('Average CPIA Score')\n",
    "    ax.set_xlabel('Year')\n",
    "    ax.tick_params(axis='x', rotation=45)\n",
    "    ax.legend(bbox_to_anchor=(1.01, -0.2))\n",
    "    ax.set_xticks(ticks=years)\n",
    "plt.show()\n"
   ]
  },
  {
   "cell_type": "markdown",
   "metadata": {},
   "source": [
    "**Question 10: How has the average rating between clusters in the lowest performing countries changed over the years??**"
   ]
  },
  {
   "cell_type": "code",
   "execution_count": 34,
   "metadata": {},
   "outputs": [
    {
     "data": {
      "image/png": "[encoded data removed]",
      "text/plain": [
       "<Figure size 1000x500 with 2 Axes>"
      ]
     },
     "metadata": {},
     "output_type": "display_data"
    }
   ],
   "source": [
    "# Visualisation of trends in the CPIA ratings of the clusters in the lowest performing countries \n",
    "\n",
    "# List of lowest performing countries\n",
    "lowest_performing_countries = ['South Sudan', 'Zimbabwe']\n",
    "\n",
    "# Creating the plot\n",
    "fig, axs = plt.subplots(1, 2, figsize=(10,5), sharey=True, sharex=True)\n",
    "for ax, country in zip(axs.ravel(), lowest_performing_countries):\n",
    "    top_country = cpia_africa[cpia_africa['Country or Area']==country]\n",
    "    top_country.plot(x='Year', y=ratings, ax=ax)\n",
    "    ax.set_title(f'CPIA Rating over the years: {country}')\n",
    "    ax.set_ylabel('Average CPIA Score')\n",
    "    ax.set_xlabel('Year')\n",
    "    ax.tick_params(axis='x', rotation=45)\n",
    "    ax.set_xticks(ticks=years)\n",
    "    ax.legend(bbox_to_anchor=(1.01, -0.2))\n",
    "plt.show()"
   ]
  },
  {
   "cell_type": "markdown",
   "metadata": {},
   "source": [
    "### Identifying the countries with similar cluster ratings using KMeans cluster analysis"
   ]
  },
  {
   "cell_type": "code",
   "execution_count": 35,
   "metadata": {},
   "outputs": [
    {
     "data": {
      "image/png": "[encoded data removed]",
      "text/plain": [
       "<Figure size 640x480 with 1 Axes>"
      ]
     },
     "metadata": {},
     "output_type": "display_data"
    }
   ],
   "source": [
    "# Prepare data with cluster scores only\n",
    "cpia_africa_country_numeric = cpia_africa_country[clusters]\n",
    "\n",
    "# Import KMeans\n",
    "from sklearn.cluster import KMeans \n",
    "\n",
    "# Finding the best number of clusters using the elbow method\n",
    "ks = range(1, 10)\n",
    "inertias = []\n",
    "for k in ks:\n",
    "    # Create a KMeans instance with k clusters: model\n",
    "    model = KMeans(n_clusters=k, random_state=42)\n",
    "    # Fit model to data\n",
    "    model.fit(cpia_africa_country_numeric)\n",
    "    # Append the inertia to the list of inertias\n",
    "    inertias.append(model.inertia_)\n",
    "    \n",
    "# Plot ks vs inertias\n",
    "plt.plot(ks, inertias, '-o')\n",
    "plt.xlabel('Number of clusters (k)')\n",
    "plt.ylabel('Inertia')\n",
    "plt.xticks(ks)\n",
    "plt.title('The Elbow Method')\n",
    "plt.show()\n"
   ]
  },
  {
   "cell_type": "markdown",
   "metadata": {},
   "source": [
    "The aim of the **elbow method** is to identify the point at which the rate of decrease of inertia changes sharply, indicating that adding more clusters has diminishing returns. Here inertia is the sum of the squared distances of each data point to its nearest cluster centre. A lower inertia indicates that the data points are closely grouped around their respective cluster centres. \n",
    "\n",
    "From the above graph, the optimal number of clusters could be 2, 3 or 4. To confirm the optimal number, we calculate the **silhouette score** corresponding to the KMeans algorithm with clusters 2, 3 and 4. The silhouette score is the measure of how well each point fits into its assigned cluster compared to other clusters. Its value ranges from -1 to 1, with 1 being the perfect cluster. We will choose the number of clusters with the highest silhouette score as the optimal number."
   ]
  },
  {
   "cell_type": "code",
   "execution_count": 36,
   "metadata": {},
   "outputs": [
    {
     "name": "stdout",
     "output_type": "stream",
     "text": [
      "The Silhouette score for KMeans with 2 clusters is 0.5434207574217156\n",
      "The Silhouette score for KMeans with 3 clusters is 0.39441273496887547\n",
      "The Silhouette score for KMeans with 4 clusters is 0.3531916275592556\n",
      "The Silhouette score for KMeans with 5 clusters is 0.367425783176375\n"
     ]
    }
   ],
   "source": [
    "# Calculating the silhouette_score\n",
    "from sklearn.metrics import silhouette_score\n",
    "for k in range(2,6):\n",
    "    kmenas_clusters_k = KMeans(n_clusters=k, random_state=42)\n",
    "    silhouette_score_cluster_k = silhouette_score(cpia_africa_country_numeric, kmenas_clusters_k.fit_predict(cpia_africa_country_numeric))\n",
    "    print(f'The Silhouette score for KMeans with {k} clusters is {silhouette_score_cluster_k}')"
   ]
  },
  {
   "cell_type": "markdown",
   "metadata": {},
   "source": [
    "Based on the computed silhouette scores, set the optimal number of clusters to be two."
   ]
  },
  {
   "cell_type": "code",
   "execution_count": 37,
   "metadata": {},
   "outputs": [],
   "source": [
    "# Run KMeans algorithm with number of clusters equals to 2\n",
    "kmeans = KMeans(n_clusters=2, random_state=42)\n",
    "\n",
    "# Fit the model to data\n",
    "labels = kmeans.fit(cpia_africa_country_numeric)"
   ]
  },
  {
   "cell_type": "markdown",
   "metadata": {},
   "source": [
    "**Question 11: How can we group the countries on the basis of CPIA scores?**"
   ]
  },
  {
   "cell_type": "code",
   "execution_count": 38,
   "metadata": {},
   "outputs": [],
   "source": [
    "# Add an additional column to the dataframe to show the labels predicted by the kmeans algorithm\n",
    "cpia_africa_country['Groups'] = labels.labels_"
   ]
  },
  {
   "cell_type": "code",
   "execution_count": 39,
   "metadata": {},
   "outputs": [
    {
     "data": {
      "text/html": [
       "<div>\n",
       "<style scoped>\n",
       "    .dataframe tbody tr th:only-of-type {\n",
       "        vertical-align: middle;\n",
       "    }\n",
       "\n",
       "    .dataframe tbody tr th {\n",
       "        vertical-align: top;\n",
       "    }\n",
       "\n",
       "    .dataframe thead th {\n",
       "        text-align: right;\n",
       "    }\n",
       "</style>\n",
       "<table border=\"1\" class=\"dataframe\">\n",
       "  <thead>\n",
       "    <tr style=\"text-align: right;\">\n",
       "      <th></th>\n",
       "      <th>Economic Management</th>\n",
       "      <th>Structural Policies</th>\n",
       "      <th>Policies for Social Inclusion and Equity</th>\n",
       "      <th>Public Sector Management and Institutions</th>\n",
       "      <th>Groups</th>\n",
       "    </tr>\n",
       "    <tr>\n",
       "      <th>Country or Area</th>\n",
       "      <th></th>\n",
       "      <th></th>\n",
       "      <th></th>\n",
       "      <th></th>\n",
       "      <th></th>\n",
       "    </tr>\n",
       "  </thead>\n",
       "  <tbody>\n",
       "    <tr>\n",
       "      <th>Benin</th>\n",
       "      <td>3.894737</td>\n",
       "      <td>3.580702</td>\n",
       "      <td>3.431579</td>\n",
       "      <td>3.363158</td>\n",
       "      <td>0</td>\n",
       "    </tr>\n",
       "    <tr>\n",
       "      <th>Burkina Faso</th>\n",
       "      <td>3.971930</td>\n",
       "      <td>3.473684</td>\n",
       "      <td>3.626316</td>\n",
       "      <td>3.489474</td>\n",
       "      <td>0</td>\n",
       "    </tr>\n",
       "    <tr>\n",
       "      <th>Burundi</th>\n",
       "      <td>3.007017</td>\n",
       "      <td>3.147368</td>\n",
       "      <td>3.463158</td>\n",
       "      <td>2.526316</td>\n",
       "      <td>0</td>\n",
       "    </tr>\n",
       "    <tr>\n",
       "      <th>Cabo Verde</th>\n",
       "      <td>3.789474</td>\n",
       "      <td>3.892982</td>\n",
       "      <td>4.057895</td>\n",
       "      <td>3.989474</td>\n",
       "      <td>0</td>\n",
       "    </tr>\n",
       "    <tr>\n",
       "      <th>Cameroon</th>\n",
       "      <td>3.633333</td>\n",
       "      <td>3.229825</td>\n",
       "      <td>3.131579</td>\n",
       "      <td>2.968421</td>\n",
       "      <td>0</td>\n",
       "    </tr>\n",
       "    <tr>\n",
       "      <th>Djibouti</th>\n",
       "      <td>2.991228</td>\n",
       "      <td>3.396492</td>\n",
       "      <td>3.147368</td>\n",
       "      <td>2.857895</td>\n",
       "      <td>0</td>\n",
       "    </tr>\n",
       "    <tr>\n",
       "      <th>Ethiopia</th>\n",
       "      <td>3.463158</td>\n",
       "      <td>3.168421</td>\n",
       "      <td>3.663158</td>\n",
       "      <td>3.357895</td>\n",
       "      <td>0</td>\n",
       "    </tr>\n",
       "    <tr>\n",
       "      <th>Ghana</th>\n",
       "      <td>3.378947</td>\n",
       "      <td>3.798246</td>\n",
       "      <td>3.831579</td>\n",
       "      <td>3.678947</td>\n",
       "      <td>0</td>\n",
       "    </tr>\n",
       "    <tr>\n",
       "      <th>Guinea</th>\n",
       "      <td>3.201754</td>\n",
       "      <td>3.173684</td>\n",
       "      <td>3.173684</td>\n",
       "      <td>2.773684</td>\n",
       "      <td>0</td>\n",
       "    </tr>\n",
       "    <tr>\n",
       "      <th>Kenya</th>\n",
       "      <td>4.166666</td>\n",
       "      <td>3.805263</td>\n",
       "      <td>3.600000</td>\n",
       "      <td>3.394737</td>\n",
       "      <td>0</td>\n",
       "    </tr>\n",
       "    <tr>\n",
       "      <th>Lesotho</th>\n",
       "      <td>3.517544</td>\n",
       "      <td>3.392982</td>\n",
       "      <td>3.400000</td>\n",
       "      <td>3.273684</td>\n",
       "      <td>0</td>\n",
       "    </tr>\n",
       "    <tr>\n",
       "      <th>Liberia</th>\n",
       "      <td>3.344444</td>\n",
       "      <td>2.888889</td>\n",
       "      <td>3.006667</td>\n",
       "      <td>2.786667</td>\n",
       "      <td>0</td>\n",
       "    </tr>\n",
       "    <tr>\n",
       "      <th>Madagascar</th>\n",
       "      <td>3.612281</td>\n",
       "      <td>3.377193</td>\n",
       "      <td>3.347368</td>\n",
       "      <td>2.910526</td>\n",
       "      <td>0</td>\n",
       "    </tr>\n",
       "    <tr>\n",
       "      <th>Malawi</th>\n",
       "      <td>2.910526</td>\n",
       "      <td>3.245614</td>\n",
       "      <td>3.531579</td>\n",
       "      <td>3.200000</td>\n",
       "      <td>0</td>\n",
       "    </tr>\n",
       "    <tr>\n",
       "      <th>Mali</th>\n",
       "      <td>4.015789</td>\n",
       "      <td>3.473684</td>\n",
       "      <td>3.289474</td>\n",
       "      <td>3.063158</td>\n",
       "      <td>0</td>\n",
       "    </tr>\n",
       "    <tr>\n",
       "      <th>Mauritania</th>\n",
       "      <td>3.438596</td>\n",
       "      <td>3.243860</td>\n",
       "      <td>3.463158</td>\n",
       "      <td>3.147368</td>\n",
       "      <td>0</td>\n",
       "    </tr>\n",
       "    <tr>\n",
       "      <th>Mozambique</th>\n",
       "      <td>3.735088</td>\n",
       "      <td>3.414035</td>\n",
       "      <td>3.357895</td>\n",
       "      <td>3.194737</td>\n",
       "      <td>0</td>\n",
       "    </tr>\n",
       "    <tr>\n",
       "      <th>Niger</th>\n",
       "      <td>3.773684</td>\n",
       "      <td>3.349123</td>\n",
       "      <td>3.226316</td>\n",
       "      <td>3.173684</td>\n",
       "      <td>0</td>\n",
       "    </tr>\n",
       "    <tr>\n",
       "      <th>Nigeria</th>\n",
       "      <td>3.857895</td>\n",
       "      <td>3.235088</td>\n",
       "      <td>3.368421</td>\n",
       "      <td>2.826316</td>\n",
       "      <td>0</td>\n",
       "    </tr>\n",
       "    <tr>\n",
       "      <th>Rwanda</th>\n",
       "      <td>3.901754</td>\n",
       "      <td>3.956141</td>\n",
       "      <td>4.105263</td>\n",
       "      <td>3.647368</td>\n",
       "      <td>0</td>\n",
       "    </tr>\n",
       "    <tr>\n",
       "      <th>Senegal</th>\n",
       "      <td>3.998246</td>\n",
       "      <td>3.849123</td>\n",
       "      <td>3.542105</td>\n",
       "      <td>3.552632</td>\n",
       "      <td>0</td>\n",
       "    </tr>\n",
       "    <tr>\n",
       "      <th>Sierra Leone</th>\n",
       "      <td>3.442105</td>\n",
       "      <td>3.098246</td>\n",
       "      <td>3.194737</td>\n",
       "      <td>3.057895</td>\n",
       "      <td>0</td>\n",
       "    </tr>\n",
       "    <tr>\n",
       "      <th>Togo</th>\n",
       "      <td>3.028070</td>\n",
       "      <td>3.264912</td>\n",
       "      <td>3.189474</td>\n",
       "      <td>2.715789</td>\n",
       "      <td>0</td>\n",
       "    </tr>\n",
       "    <tr>\n",
       "      <th>Uganda</th>\n",
       "      <td>4.201755</td>\n",
       "      <td>3.840351</td>\n",
       "      <td>3.652632</td>\n",
       "      <td>3.189474</td>\n",
       "      <td>0</td>\n",
       "    </tr>\n",
       "    <tr>\n",
       "      <th>Zambia</th>\n",
       "      <td>3.168421</td>\n",
       "      <td>3.685965</td>\n",
       "      <td>3.342105</td>\n",
       "      <td>3.115789</td>\n",
       "      <td>0</td>\n",
       "    </tr>\n",
       "  </tbody>\n",
       "</table>\n",
       "</div>"
      ],
      "text/plain": [
       "                 Economic Management  Structural Policies  \\\n",
       "Country or Area                                             \n",
       "Benin                       3.894737             3.580702   \n",
       "Burkina Faso                3.971930             3.473684   \n",
       "Burundi                     3.007017             3.147368   \n",
       "Cabo Verde                  3.789474             3.892982   \n",
       "Cameroon                    3.633333             3.229825   \n",
       "Djibouti                    2.991228             3.396492   \n",
       "Ethiopia                    3.463158             3.168421   \n",
       "Ghana                       3.378947             3.798246   \n",
       "Guinea                      3.201754             3.173684   \n",
       "Kenya                       4.166666             3.805263   \n",
       "Lesotho                     3.517544             3.392982   \n",
       "Liberia                     3.344444             2.888889   \n",
       "Madagascar                  3.612281             3.377193   \n",
       "Malawi                      2.910526             3.245614   \n",
       "Mali                        4.015789             3.473684   \n",
       "Mauritania                  3.438596             3.243860   \n",
       "Mozambique                  3.735088             3.414035   \n",
       "Niger                       3.773684             3.349123   \n",
       "Nigeria                     3.857895             3.235088   \n",
       "Rwanda                      3.901754             3.956141   \n",
       "Senegal                     3.998246             3.849123   \n",
       "Sierra Leone                3.442105             3.098246   \n",
       "Togo                        3.028070             3.264912   \n",
       "Uganda                      4.201755             3.840351   \n",
       "Zambia                      3.168421             3.685965   \n",
       "\n",
       "                 Policies for Social Inclusion and Equity  \\\n",
       "Country or Area                                             \n",
       "Benin                                            3.431579   \n",
       "Burkina Faso                                     3.626316   \n",
       "Burundi                                          3.463158   \n",
       "Cabo Verde                                       4.057895   \n",
       "Cameroon                                         3.131579   \n",
       "Djibouti                                         3.147368   \n",
       "Ethiopia                                         3.663158   \n",
       "Ghana                                            3.831579   \n",
       "Guinea                                           3.173684   \n",
       "Kenya                                            3.600000   \n",
       "Lesotho                                          3.400000   \n",
       "Liberia                                          3.006667   \n",
       "Madagascar                                       3.347368   \n",
       "Malawi                                           3.531579   \n",
       "Mali                                             3.289474   \n",
       "Mauritania                                       3.463158   \n",
       "Mozambique                                       3.357895   \n",
       "Niger                                            3.226316   \n",
       "Nigeria                                          3.368421   \n",
       "Rwanda                                           4.105263   \n",
       "Senegal                                          3.542105   \n",
       "Sierra Leone                                     3.194737   \n",
       "Togo                                             3.189474   \n",
       "Uganda                                           3.652632   \n",
       "Zambia                                           3.342105   \n",
       "\n",
       "                 Public Sector Management and Institutions  Groups  \n",
       "Country or Area                                                     \n",
       "Benin                                             3.363158       0  \n",
       "Burkina Faso                                      3.489474       0  \n",
       "Burundi                                           2.526316       0  \n",
       "Cabo Verde                                        3.989474       0  \n",
       "Cameroon                                          2.968421       0  \n",
       "Djibouti                                          2.857895       0  \n",
       "Ethiopia                                          3.357895       0  \n",
       "Ghana                                             3.678947       0  \n",
       "Guinea                                            2.773684       0  \n",
       "Kenya                                             3.394737       0  \n",
       "Lesotho                                           3.273684       0  \n",
       "Liberia                                           2.786667       0  \n",
       "Madagascar                                        2.910526       0  \n",
       "Malawi                                            3.200000       0  \n",
       "Mali                                              3.063158       0  \n",
       "Mauritania                                        3.147368       0  \n",
       "Mozambique                                        3.194737       0  \n",
       "Niger                                             3.173684       0  \n",
       "Nigeria                                           2.826316       0  \n",
       "Rwanda                                            3.647368       0  \n",
       "Senegal                                           3.552632       0  \n",
       "Sierra Leone                                      3.057895       0  \n",
       "Togo                                              2.715789       0  \n",
       "Uganda                                            3.189474       0  \n",
       "Zambia                                            3.115789       0  "
      ]
     },
     "metadata": {},
     "output_type": "display_data"
    }
   ],
   "source": [
    "# List of countries grouped in the first cluster\n",
    "display(cpia_africa_country[cpia_africa_country['Groups']==0])"
   ]
  },
  {
   "cell_type": "code",
   "execution_count": 40,
   "metadata": {},
   "outputs": [
    {
     "data": {
      "text/html": [
       "<div>\n",
       "<style scoped>\n",
       "    .dataframe tbody tr th:only-of-type {\n",
       "        vertical-align: middle;\n",
       "    }\n",
       "\n",
       "    .dataframe tbody tr th {\n",
       "        vertical-align: top;\n",
       "    }\n",
       "\n",
       "    .dataframe thead th {\n",
       "        text-align: right;\n",
       "    }\n",
       "</style>\n",
       "<table border=\"1\" class=\"dataframe\">\n",
       "  <thead>\n",
       "    <tr style=\"text-align: right;\">\n",
       "      <th></th>\n",
       "      <th>Economic Management</th>\n",
       "      <th>Structural Policies</th>\n",
       "      <th>Policies for Social Inclusion and Equity</th>\n",
       "      <th>Public Sector Management and Institutions</th>\n",
       "      <th>Groups</th>\n",
       "    </tr>\n",
       "    <tr>\n",
       "      <th>Country or Area</th>\n",
       "      <th></th>\n",
       "      <th></th>\n",
       "      <th></th>\n",
       "      <th></th>\n",
       "      <th></th>\n",
       "    </tr>\n",
       "  </thead>\n",
       "  <tbody>\n",
       "    <tr>\n",
       "      <th>Angola</th>\n",
       "      <td>2.907407</td>\n",
       "      <td>2.774074</td>\n",
       "      <td>2.733333</td>\n",
       "      <td>2.366667</td>\n",
       "      <td>1</td>\n",
       "    </tr>\n",
       "    <tr>\n",
       "      <th>Central African Republic</th>\n",
       "      <td>2.980702</td>\n",
       "      <td>2.536842</td>\n",
       "      <td>2.331579</td>\n",
       "      <td>2.336842</td>\n",
       "      <td>1</td>\n",
       "    </tr>\n",
       "    <tr>\n",
       "      <th>Chad</th>\n",
       "      <td>2.878948</td>\n",
       "      <td>2.656141</td>\n",
       "      <td>2.657895</td>\n",
       "      <td>2.431579</td>\n",
       "      <td>1</td>\n",
       "    </tr>\n",
       "    <tr>\n",
       "      <th>Comoros</th>\n",
       "      <td>2.570175</td>\n",
       "      <td>2.852632</td>\n",
       "      <td>2.763158</td>\n",
       "      <td>2.378947</td>\n",
       "      <td>1</td>\n",
       "    </tr>\n",
       "    <tr>\n",
       "      <th>Congo</th>\n",
       "      <td>3.033333</td>\n",
       "      <td>2.849123</td>\n",
       "      <td>2.868421</td>\n",
       "      <td>2.578947</td>\n",
       "      <td>1</td>\n",
       "    </tr>\n",
       "    <tr>\n",
       "      <th>Eritrea</th>\n",
       "      <td>1.642105</td>\n",
       "      <td>1.394737</td>\n",
       "      <td>2.715789</td>\n",
       "      <td>2.510526</td>\n",
       "      <td>1</td>\n",
       "    </tr>\n",
       "    <tr>\n",
       "      <th>Guinea-Bissau</th>\n",
       "      <td>2.489474</td>\n",
       "      <td>2.966667</td>\n",
       "      <td>2.452632</td>\n",
       "      <td>2.294737</td>\n",
       "      <td>1</td>\n",
       "    </tr>\n",
       "    <tr>\n",
       "      <th>Somalia</th>\n",
       "      <td>2.027778</td>\n",
       "      <td>1.888889</td>\n",
       "      <td>2.350000</td>\n",
       "      <td>1.916667</td>\n",
       "      <td>1</td>\n",
       "    </tr>\n",
       "    <tr>\n",
       "      <th>South Sudan</th>\n",
       "      <td>1.402778</td>\n",
       "      <td>2.055556</td>\n",
       "      <td>1.791667</td>\n",
       "      <td>1.566667</td>\n",
       "      <td>1</td>\n",
       "    </tr>\n",
       "    <tr>\n",
       "      <th>Sudan</th>\n",
       "      <td>2.301754</td>\n",
       "      <td>2.596491</td>\n",
       "      <td>2.415789</td>\n",
       "      <td>2.152632</td>\n",
       "      <td>1</td>\n",
       "    </tr>\n",
       "    <tr>\n",
       "      <th>Zimbabwe</th>\n",
       "      <td>1.982456</td>\n",
       "      <td>2.422807</td>\n",
       "      <td>2.815789</td>\n",
       "      <td>2.447368</td>\n",
       "      <td>1</td>\n",
       "    </tr>\n",
       "  </tbody>\n",
       "</table>\n",
       "</div>"
      ],
      "text/plain": [
       "                          Economic Management  Structural Policies  \\\n",
       "Country or Area                                                      \n",
       "Angola                               2.907407             2.774074   \n",
       "Central African Republic             2.980702             2.536842   \n",
       "Chad                                 2.878948             2.656141   \n",
       "Comoros                              2.570175             2.852632   \n",
       "Congo                                3.033333             2.849123   \n",
       "Eritrea                              1.642105             1.394737   \n",
       "Guinea-Bissau                        2.489474             2.966667   \n",
       "Somalia                              2.027778             1.888889   \n",
       "South Sudan                          1.402778             2.055556   \n",
       "Sudan                                2.301754             2.596491   \n",
       "Zimbabwe                             1.982456             2.422807   \n",
       "\n",
       "                          Policies for Social Inclusion and Equity  \\\n",
       "Country or Area                                                      \n",
       "Angola                                                    2.733333   \n",
       "Central African Republic                                  2.331579   \n",
       "Chad                                                      2.657895   \n",
       "Comoros                                                   2.763158   \n",
       "Congo                                                     2.868421   \n",
       "Eritrea                                                   2.715789   \n",
       "Guinea-Bissau                                             2.452632   \n",
       "Somalia                                                   2.350000   \n",
       "South Sudan                                               1.791667   \n",
       "Sudan                                                     2.415789   \n",
       "Zimbabwe                                                  2.815789   \n",
       "\n",
       "                          Public Sector Management and Institutions  Groups  \n",
       "Country or Area                                                              \n",
       "Angola                                                     2.366667       1  \n",
       "Central African Republic                                   2.336842       1  \n",
       "Chad                                                       2.431579       1  \n",
       "Comoros                                                    2.378947       1  \n",
       "Congo                                                      2.578947       1  \n",
       "Eritrea                                                    2.510526       1  \n",
       "Guinea-Bissau                                              2.294737       1  \n",
       "Somalia                                                    1.916667       1  \n",
       "South Sudan                                                1.566667       1  \n",
       "Sudan                                                      2.152632       1  \n",
       "Zimbabwe                                                   2.447368       1  "
      ]
     },
     "metadata": {},
     "output_type": "display_data"
    }
   ],
   "source": [
    "# List of countries grouped in the other cluster\n",
    "display(cpia_africa_country[cpia_africa_country['Groups']==1])"
   ]
  },
  {
   "cell_type": "markdown",
   "metadata": {},
   "source": [
    "Based on the grouping by KMeans and the corresponding CPIA scores, **Group 0** can be identified with high performing countries and **Group 1** with low performing countries."
   ]
  },
  {
   "cell_type": "code",
   "execution_count": 41,
   "metadata": {},
   "outputs": [],
   "source": [
    "# Renaming the groups for clarity\n",
    "cpia_africa_country_performance = cpia_africa_country.copy()\n",
    "\n",
    "cpia_africa_country_performance['Groups'] = cpia_africa_country_performance['Groups'].map({0:'High performing countries', 1:'Low performing countries'})"
   ]
  },
  {
   "cell_type": "code",
   "execution_count": 42,
   "metadata": {},
   "outputs": [
    {
     "data": {
      "application/vnd.plotly.v1+json": {
       "config": {
        "plotlyServerURL": "https://plot.ly"
       },
       "data": [
        {
         "colorscale": [
          [
           0,
           "rgb(229, 134, 6)"
          ],
          [
           1,
           "rgb(229, 134, 6)"
          ]
         ],
         "geo": "geo",
         "hovertemplate": "Groups=Low performing countries<br>Country or Area=%{location}<extra></extra>",
         "locationmode": "country names",
         "locations": [
          "Angola",
          "Central African Republic",
          "Chad",
          "Comoros",
          "Congo",
          "Eritrea",
          "Guinea-Bissau",
          "Somalia",
          "South Sudan",
          "Sudan",
          "Zimbabwe"
         ],
         "name": "Low performing countries",
         "showlegend": true,
         "showscale": false,
         "type": "choropleth",
         "z": [
          1,
          1,
          1,
          1,
          1,
          1,
          1,
          1,
          1,
          1,
          1
         ]
        },
        {
         "colorscale": [
          [
           0,
           "rgb(93, 105, 177)"
          ],
          [
           1,
           "rgb(93, 105, 177)"
          ]
         ],
         "geo": "geo",
         "hovertemplate": "Groups=High performing countries<br>Country or Area=%{location}<extra></extra>",
         "locationmode": "country names",
         "locations": [
          "Benin",
          "Burkina Faso",
          "Burundi",
          "Cabo Verde",
          "Cameroon",
          "Djibouti",
          "Ethiopia",
          "Ghana",
          "Guinea",
          "Kenya",
          "Lesotho",
          "Liberia",
          "Madagascar",
          "Malawi",
          "Mali",
          "Mauritania",
          "Mozambique",
          "Niger",
          "Nigeria",
          "Rwanda",
          "Senegal",
          "Sierra Leone",
          "Togo",
          "Uganda",
          "Zambia"
         ],
         "name": "High performing countries",
         "showlegend": true,
         "showscale": false,
         "type": "choropleth",
         "z": [
          1,
          1,
          1,
          1,
          1,
          1,
          1,
          1,
          1,
          1,
          1,
          1,
          1,
          1,
          1,
          1,
          1,
          1,
          1,
          1,
          1,
          1,
          1,
          1,
          1
         ]
        }
       ],
       "layout": {
        "geo": {
         "center": {},
         "domain": {
          "x": [
           0,
           1
          ],
          "y": [
           0,
           1
          ]
         },
         "scope": "africa"
        },
        "legend": {
         "title": {
          "text": "Groups"
         },
         "tracegroupgap": 0
        },
        "template": {
         "data": {
          "bar": [
           {
            "error_x": {
             "color": "#2a3f5f"
            },
            "error_y": {
             "color": "#2a3f5f"
            },
            "marker": {
             "line": {
              "color": "#E5ECF6",
              "width": 0.5
             },
             "pattern": {
              "fillmode": "overlay",
              "size": 10,
              "solidity": 0.2
             }
            },
            "type": "bar"
           }
          ],
          "barpolar": [
           {
            "marker": {
             "line": {
              "color": "#E5ECF6",
              "width": 0.5
             },
             "pattern": {
              "fillmode": "overlay",
              "size": 10,
              "solidity": 0.2
             }
            },
            "type": "barpolar"
           }
          ],
          "carpet": [
           {
            "aaxis": {
             "endlinecolor": "#2a3f5f",
             "gridcolor": "white",
             "linecolor": "white",
             "minorgridcolor": "white",
             "startlinecolor": "#2a3f5f"
            },
            "baxis": {
             "endlinecolor": "#2a3f5f",
             "gridcolor": "white",
             "linecolor": "white",
             "minorgridcolor": "white",
             "startlinecolor": "#2a3f5f"
            },
            "type": "carpet"
           }
          ],
          "choropleth": [
           {
            "colorbar": {
             "outlinewidth": 0,
             "ticks": ""
            },
            "type": "choropleth"
           }
          ],
          "contour": [
           {
            "colorbar": {
             "outlinewidth": 0,
             "ticks": ""
            },
            "colorscale": [
             [
              0,
              "#0d0887"
             ],
             [
              0.1111111111111111,
              "#46039f"
             ],
             [
              0.2222222222222222,
              "#7201a8"
             ],
             [
              0.3333333333333333,
              "#9c179e"
             ],
             [
              0.4444444444444444,
              "#bd3786"
             ],
             [
              0.5555555555555556,
              "#d8576b"
             ],
             [
              0.6666666666666666,
              "#ed7953"
             ],
             [
              0.7777777777777778,
              "#fb9f3a"
             ],
             [
              0.8888888888888888,
              "#fdca26"
             ],
             [
              1,
              "#f0f921"
             ]
            ],
            "type": "contour"
           }
          ],
          "contourcarpet": [
           {
            "colorbar": {
             "outlinewidth": 0,
             "ticks": ""
            },
            "type": "contourcarpet"
           }
          ],
          "heatmap": [
           {
            "colorbar": {
             "outlinewidth": 0,
             "ticks": ""
            },
            "colorscale": [
             [
              0,
              "#0d0887"
             ],
             [
              0.1111111111111111,
              "#46039f"
             ],
             [
              0.2222222222222222,
              "#7201a8"
             ],
             [
              0.3333333333333333,
              "#9c179e"
             ],
             [
              0.4444444444444444,
              "#bd3786"
             ],
             [
              0.5555555555555556,
              "#d8576b"
             ],
             [
              0.6666666666666666,
              "#ed7953"
             ],
             [
              0.7777777777777778,
              "#fb9f3a"
             ],
             [
              0.8888888888888888,
              "#fdca26"
             ],
             [
              1,
              "#f0f921"
             ]
            ],
            "type": "heatmap"
           }
          ],
          "histogram": [
           {
            "marker": {
             "pattern": {
              "fillmode": "overlay",
              "size": 10,
              "solidity": 0.2
             }
            },
            "type": "histogram"
           }
          ],
          "histogram2d": [
           {
            "colorbar": {
             "outlinewidth": 0,
             "ticks": ""
            },
            "colorscale": [
             [
              0,
              "#0d0887"
             ],
             [
              0.1111111111111111,
              "#46039f"
             ],
             [
              0.2222222222222222,
              "#7201a8"
             ],
             [
              0.3333333333333333,
              "#9c179e"
             ],
             [
              0.4444444444444444,
              "#bd3786"
             ],
             [
              0.5555555555555556,
              "#d8576b"
             ],
             [
              0.6666666666666666,
              "#ed7953"
             ],
             [
              0.7777777777777778,
              "#fb9f3a"
             ],
             [
              0.8888888888888888,
              "#fdca26"
             ],
             [
              1,
              "#f0f921"
             ]
            ],
            "type": "histogram2d"
           }
          ],
          "histogram2dcontour": [
           {
            "colorbar": {
             "outlinewidth": 0,
             "ticks": ""
            },
            "colorscale": [
             [
              0,
              "#0d0887"
             ],
             [
              0.1111111111111111,
              "#46039f"
             ],
             [
              0.2222222222222222,
              "#7201a8"
             ],
             [
              0.3333333333333333,
              "#9c179e"
             ],
             [
              0.4444444444444444,
              "#bd3786"
             ],
             [
              0.5555555555555556,
              "#d8576b"
             ],
             [
              0.6666666666666666,
              "#ed7953"
             ],
             [
              0.7777777777777778,
              "#fb9f3a"
             ],
             [
              0.8888888888888888,
              "#fdca26"
             ],
             [
              1,
              "#f0f921"
             ]
            ],
            "type": "histogram2dcontour"
           }
          ],
          "mesh3d": [
           {
            "colorbar": {
             "outlinewidth": 0,
             "ticks": ""
            },
            "type": "mesh3d"
           }
          ],
          "parcoords": [
           {
            "line": {
             "colorbar": {
              "outlinewidth": 0,
              "ticks": ""
             }
            },
            "type": "parcoords"
           }
          ],
          "pie": [
           {
            "automargin": true,
            "type": "pie"
           }
          ],
          "scatter": [
           {
            "fillpattern": {
             "fillmode": "overlay",
             "size": 10,
             "solidity": 0.2
            },
            "type": "scatter"
           }
          ],
          "scatter3d": [
           {
            "line": {
             "colorbar": {
              "outlinewidth": 0,
              "ticks": ""
             }
            },
            "marker": {
             "colorbar": {
              "outlinewidth": 0,
              "ticks": ""
             }
            },
            "type": "scatter3d"
           }
          ],
          "scattercarpet": [
           {
            "marker": {
             "colorbar": {
              "outlinewidth": 0,
              "ticks": ""
             }
            },
            "type": "scattercarpet"
           }
          ],
          "scattergeo": [
           {
            "marker": {
             "colorbar": {
              "outlinewidth": 0,
              "ticks": ""
             }
            },
            "type": "scattergeo"
           }
          ],
          "scattergl": [
           {
            "marker": {
             "colorbar": {
              "outlinewidth": 0,
              "ticks": ""
             }
            },
            "type": "scattergl"
           }
          ],
          "scattermap": [
           {
            "marker": {
             "colorbar": {
              "outlinewidth": 0,
              "ticks": ""
             }
            },
            "type": "scattermap"
           }
          ],
          "scattermapbox": [
           {
            "marker": {
             "colorbar": {
              "outlinewidth": 0,
              "ticks": ""
             }
            },
            "type": "scattermapbox"
           }
          ],
          "scatterpolar": [
           {
            "marker": {
             "colorbar": {
              "outlinewidth": 0,
              "ticks": ""
             }
            },
            "type": "scatterpolar"
           }
          ],
          "scatterpolargl": [
           {
            "marker": {
             "colorbar": {
              "outlinewidth": 0,
              "ticks": ""
             }
            },
            "type": "scatterpolargl"
           }
          ],
          "scatterternary": [
           {
            "marker": {
             "colorbar": {
              "outlinewidth": 0,
              "ticks": ""
             }
            },
            "type": "scatterternary"
           }
          ],
          "surface": [
           {
            "colorbar": {
             "outlinewidth": 0,
             "ticks": ""
            },
            "colorscale": [
             [
              0,
              "#0d0887"
             ],
             [
              0.1111111111111111,
              "#46039f"
             ],
             [
              0.2222222222222222,
              "#7201a8"
             ],
             [
              0.3333333333333333,
              "#9c179e"
             ],
             [
              0.4444444444444444,
              "#bd3786"
             ],
             [
              0.5555555555555556,
              "#d8576b"
             ],
             [
              0.6666666666666666,
              "#ed7953"
             ],
             [
              0.7777777777777778,
              "#fb9f3a"
             ],
             [
              0.8888888888888888,
              "#fdca26"
             ],
             [
              1,
              "#f0f921"
             ]
            ],
            "type": "surface"
           }
          ],
          "table": [
           {
            "cells": {
             "fill": {
              "color": "#EBF0F8"
             },
             "line": {
              "color": "white"
             }
            },
            "header": {
             "fill": {
              "color": "#C8D4E3"
             },
             "line": {
              "color": "white"
             }
            },
            "type": "table"
           }
          ]
         },
         "layout": {
          "annotationdefaults": {
           "arrowcolor": "#2a3f5f",
           "arrowhead": 0,
           "arrowwidth": 1
          },
          "autotypenumbers": "strict",
          "coloraxis": {
           "colorbar": {
            "outlinewidth": 0,
            "ticks": ""
           }
          },
          "colorscale": {
           "diverging": [
            [
             0,
             "#8e0152"
            ],
            [
             0.1,
             "#c51b7d"
            ],
            [
             0.2,
             "#de77ae"
            ],
            [
             0.3,
             "#f1b6da"
            ],
            [
             0.4,
             "#fde0ef"
            ],
            [
             0.5,
             "#f7f7f7"
            ],
            [
             0.6,
             "#e6f5d0"
            ],
            [
             0.7,
             "#b8e186"
            ],
            [
             0.8,
             "#7fbc41"
            ],
            [
             0.9,
             "#4d9221"
            ],
            [
             1,
             "#276419"
            ]
           ],
           "sequential": [
            [
             0,
             "#0d0887"
            ],
            [
             0.1111111111111111,
             "#46039f"
            ],
            [
             0.2222222222222222,
             "#7201a8"
            ],
            [
             0.3333333333333333,
             "#9c179e"
            ],
            [
             0.4444444444444444,
             "#bd3786"
            ],
            [
             0.5555555555555556,
             "#d8576b"
            ],
            [
             0.6666666666666666,
             "#ed7953"
            ],
            [
             0.7777777777777778,
             "#fb9f3a"
            ],
            [
             0.8888888888888888,
             "#fdca26"
            ],
            [
             1,
             "#f0f921"
            ]
           ],
           "sequentialminus": [
            [
             0,
             "#0d0887"
            ],
            [
             0.1111111111111111,
             "#46039f"
            ],
            [
             0.2222222222222222,
             "#7201a8"
            ],
            [
             0.3333333333333333,
             "#9c179e"
            ],
            [
             0.4444444444444444,
             "#bd3786"
            ],
            [
             0.5555555555555556,
             "#d8576b"
            ],
            [
             0.6666666666666666,
             "#ed7953"
            ],
            [
             0.7777777777777778,
             "#fb9f3a"
            ],
            [
             0.8888888888888888,
             "#fdca26"
            ],
            [
             1,
             "#f0f921"
            ]
           ]
          },
          "colorway": [
           "#636efa",
           "#EF553B",
           "#00cc96",
           "#ab63fa",
           "#FFA15A",
           "#19d3f3",
           "#FF6692",
           "#B6E880",
           "#FF97FF",
           "#FECB52"
          ],
          "font": {
           "color": "#2a3f5f"
          },
          "geo": {
           "bgcolor": "white",
           "lakecolor": "white",
           "landcolor": "#E5ECF6",
           "showlakes": true,
           "showland": true,
           "subunitcolor": "white"
          },
          "hoverlabel": {
           "align": "left"
          },
          "hovermode": "closest",
          "mapbox": {
           "style": "light"
          },
          "paper_bgcolor": "white",
          "plot_bgcolor": "#E5ECF6",
          "polar": {
           "angularaxis": {
            "gridcolor": "white",
            "linecolor": "white",
            "ticks": ""
           },
           "bgcolor": "#E5ECF6",
           "radialaxis": {
            "gridcolor": "white",
            "linecolor": "white",
            "ticks": ""
           }
          },
          "scene": {
           "xaxis": {
            "backgroundcolor": "#E5ECF6",
            "gridcolor": "white",
            "gridwidth": 2,
            "linecolor": "white",
            "showbackground": true,
            "ticks": "",
            "zerolinecolor": "white"
           },
           "yaxis": {
            "backgroundcolor": "#E5ECF6",
            "gridcolor": "white",
            "gridwidth": 2,
            "linecolor": "white",
            "showbackground": true,
            "ticks": "",
            "zerolinecolor": "white"
           },
           "zaxis": {
            "backgroundcolor": "#E5ECF6",
            "gridcolor": "white",
            "gridwidth": 2,
            "linecolor": "white",
            "showbackground": true,
            "ticks": "",
            "zerolinecolor": "white"
           }
          },
          "shapedefaults": {
           "line": {
            "color": "#2a3f5f"
           }
          },
          "ternary": {
           "aaxis": {
            "gridcolor": "white",
            "linecolor": "white",
            "ticks": ""
           },
           "baxis": {
            "gridcolor": "white",
            "linecolor": "white",
            "ticks": ""
           },
           "bgcolor": "#E5ECF6",
           "caxis": {
            "gridcolor": "white",
            "linecolor": "white",
            "ticks": ""
           }
          },
          "title": {
           "x": 0.05
          },
          "xaxis": {
           "automargin": true,
           "gridcolor": "white",
           "linecolor": "white",
           "ticks": "",
           "title": {
            "standoff": 15
           },
           "zerolinecolor": "white",
           "zerolinewidth": 2
          },
          "yaxis": {
           "automargin": true,
           "gridcolor": "white",
           "linecolor": "white",
           "ticks": "",
           "title": {
            "standoff": 15
           },
           "zerolinecolor": "white",
           "zerolinewidth": 2
          }
         }
        },
        "title": {
         "text": "Grouping of African countries by CPIA performance"
        }
       }
      }
     },
     "metadata": {},
     "output_type": "display_data"
    }
   ],
   "source": [
    "# Visualisation of KMeans clusters of countries based on their CPIA score\n",
    "\n",
    "# Create the plot\n",
    "fig = px.choropleth(\n",
    "    cpia_africa_country_performance,\n",
    "    locations=cpia_africa_country_performance.index,\n",
    "    locationmode='country names',\n",
    "    color='Groups',  \n",
    "    color_discrete_sequence=px.colors.qualitative.Vivid,  \n",
    "    title='Grouping of African countries by CPIA performance',\n",
    "    scope='africa'\n",
    ")\n",
    "\n",
    "fig.show()"
   ]
  }
 ],
 "metadata": {
  "kernelspec": {
   "display_name": "venv",
   "language": "python",
   "name": "python3"
  },
  "language_info": {
   "codemirror_mode": {
    "name": "ipython",
    "version": 3
   },
   "file_extension": ".py",
   "mimetype": "text/x-python",
   "name": "python",
   "nbconvert_exporter": "python",
   "pygments_lexer": "ipython3",
   "version": "3.12.3"
  }
 },
 "nbformat": 4,
 "nbformat_minor": 2
}
